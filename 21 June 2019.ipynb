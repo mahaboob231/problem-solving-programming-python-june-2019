{
 "cells": [
  {
   "cell_type": "code",
   "execution_count": 7,
   "metadata": {},
   "outputs": [
    {
     "name": "stdout",
     "output_type": "stream",
     "text": [
      "1 c\n",
      "2 b\n",
      "3 c\n",
      "4 c\n"
     ]
    }
   ],
   "source": [
    "s1=\"cbcc\"\n",
    "s2=\"cbad\"\n",
    "c=0\n",
    "for i in range(0,len(s1)):\n",
    "    if s1[i] in s2:\n",
    "        c+=1\n",
    "        print(c,s1[i])"
   ]
  },
  {
   "cell_type": "code",
   "execution_count": 12,
   "metadata": {},
   "outputs": [
    {
     "name": "stdout",
     "output_type": "stream",
     "text": [
      "['Twelve:', ' Eighty nine:', ' Nine:', '.']\n"
     ]
    }
   ],
   "source": [
    "import re\n",
    "\n",
    "string = 'Twelve:12 Eighty nine:89 Nine:9.'\n",
    "pattern = '\\d+'\n",
    "\n",
    "# maxsplit = 1\n",
    "# split only at the first occurrence\n",
    "result = re.split(pattern, string) \n",
    "print(result)\n",
    "\n",
    "# Output: ['Twelve:', ' Eighty nine:89 Nine:9.']"
   ]
  },
  {
   "cell_type": "code",
   "execution_count": 8,
   "metadata": {},
   "outputs": [
    {
     "name": "stdout",
     "output_type": "stream",
     "text": [
      "['shaiksha', '8142688107', 'shaikshav94@gmail.com\\nmahaboob', '9676173757', 'mahaboobbasha.s@apssdc.in\\n']\n",
      "True\n"
     ]
    }
   ],
   "source": [
    "from Packages.validators import phoneNumberValidator,emailValidator\n",
    "\n",
    "# def addcontacts(name,phonenum,email):\n",
    "#     # store data as name,phone,email in the contacts text file\n",
    "#     filename=\"DF/contacts.txt\"\n",
    "#     if not checkcontactexist(name):\n",
    "#         if phoneNumberValidator(phonenum) and emailValidator(email):\n",
    "#             with open(filename,'a') as f:\n",
    "#                 line = name+\",\"+str(phonenum)+\",\"+email+\"\\n\"\n",
    "#                 f.write(line)\n",
    "#             print(name, \"added to contacts\")\n",
    "#         else:\n",
    "#             print(\"invalid phonenum and email\")\n",
    "#     else:\n",
    "#         print(name, \"already exists\")\n",
    "#     return\n",
    "import re\n",
    "#define to check if contact already exists\n",
    "def checkcontactexist(name):\n",
    "    filename=\"DF/contacts.txt\"\n",
    "    with open(filename,'r') as f:\n",
    "        filedata=f.read()\n",
    "        print(filedata.split(\",\"))\n",
    "        #p=filedata.split(\",\")\n",
    "        pattern=name\n",
    "    return re.search(pattern,filedata)\n",
    "        \n",
    "#addcontacts(\"shaiksha\",8142688107,\"shaikshav94@gmail.com\")\n",
    "if checkcontactexist(\"maha\"):\n",
    "    print(True)\n",
    "else:\n",
    "    print(False)\n",
    "#addcontacts(\"ma\",967617357,\"mahaboobbasha.s@apssdc.in\")\n"
   ]
  },
  {
   "cell_type": "code",
   "execution_count": 58,
   "metadata": {},
   "outputs": [
    {
     "data": {
      "text/plain": [
       "'shaiksha,8142688107,shaikshav94@gmail.com\\nmahaboob,9676173757,mahaboobbasha.s@apssdc.in\\n'"
      ]
     },
     "execution_count": 58,
     "metadata": {},
     "output_type": "execute_result"
    }
   ],
   "source": [
    "filename = \"DF/contacts.txt\"\n",
    "def contactsTolist(filename):\n",
    "    li=[]\n",
    "    with open(filename,\"r\") as f:\n",
    "        for line in f:\n",
    "            li.append(line.split(\",\"))\n",
    "    return li\n",
    "def listTofile(li):\n",
    "    s=\"\"\n",
    "    for i in li:\n",
    "        #s=s+\",\".join(i)\n",
    "        s+=\",\".join(i)\n",
    "    return s\n",
    "li=contactsTolist(filename)\n",
    "listTofile(li)\n",
    "\n"
   ]
  },
  {
   "cell_type": "code",
   "execution_count": 1,
   "metadata": {},
   "outputs": [
    {
     "name": "stdout",
     "output_type": "stream",
     "text": [
      "104\n"
     ]
    }
   ],
   "source": [
    "filename=\"DF/wordcount.txt\"\n",
    "with open(filename,'r') as f:\n",
    "    filedata=f.read()\n",
    "print(len(filedata.split()))"
   ]
  },
  {
   "cell_type": "code",
   "execution_count": 15,
   "metadata": {},
   "outputs": [
    {
     "name": "stdout",
     "output_type": "stream",
     "text": [
      "ganesh,9090909090,ganesh@gmail.com\n",
      "ganesh,9090909090,ganesh@gmail.com\n",
      "ganesh,9090909090,ganesh@gmail.com\n",
      "\n"
     ]
    }
   ],
   "source": [
    "filename=\"DF/data.txt\"\n",
    "with open(filename,\"r+\") as f:\n",
    "    print(f.read())\n",
    "    f.write(\"ganesh\"+\",\"+\"9090909090\"+\",\"+\"ganesh@gmail.com\"+\"\\n\")\n",
    "    "
   ]
  },
  {
   "cell_type": "code",
   "execution_count": 11,
   "metadata": {},
   "outputs": [
    {
     "name": "stdout",
     "output_type": "stream",
     "text": [
      "2\n",
      "basha\n",
      "9676173757\n",
      "basha@gmail.com\n",
      "gopi\n",
      "9899797979\n",
      "gopi@gmail.com\n"
     ]
    },
    {
     "data": {
      "text/plain": [
       "'data added successfully'"
      ]
     },
     "execution_count": 11,
     "metadata": {},
     "output_type": "execute_result"
    }
   ],
   "source": [
    "#contact application\n",
    "contact={}\n",
    "def addContact():\n",
    "    n=int(input())\n",
    "    for i in range(n):\n",
    "        name=input()\n",
    "        mobile=input()\n",
    "        email=input()\n",
    "        contact[name]=[mobile,email]\n",
    "    with open(\"mycontacts.txt\",\"w\") as data:\n",
    "        for user in contact.items():\n",
    "            data.write(user[0]+\",\"+user[1][0]+\",\"+user[1][1]+\"\\n\")\n",
    "    return \"data added successfully\"\n",
    "addContact()"
   ]
  },
  {
   "cell_type": "code",
   "execution_count": null,
   "metadata": {},
   "outputs": [],
   "source": []
  },
  {
   "cell_type": "code",
   "execution_count": 15,
   "metadata": {},
   "outputs": [
    {
     "name": "stdout",
     "output_type": "stream",
     "text": [
      "mycontacts.txt\n",
      "basha\n",
      "9999999999\n",
      "mabhu4r@gmail.com\n"
     ]
    }
   ],
   "source": [
    "#updating file\n",
    "updated_data={}\n",
    "def modifyContact(filename):\n",
    "    name=input()\n",
    "    with open(filename,\"r\") as f:\n",
    "        for line in f:\n",
    "            line=line.strip().split(\",\")\n",
    "            if name in line:\n",
    "                mobile=input()\n",
    "                email=input()\n",
    "                line[1]=mobile\n",
    "                line[2]=email\n",
    "                updated_data[name]=line[1],line[2]\n",
    "            else:\n",
    "                updated_data[line[0]]=[line[1],line[2]]\n",
    "                continue\n",
    "    with open(filename,\"w\") as info:\n",
    "        for user in updated_data.items():\n",
    "            info.write(user[0]+\",\"+user[1][0]+\",\"+user[1][1]+\"\\n\")\n",
    "    return\n",
    "    print(updated_data)    \n",
    "filename=input()\n",
    "modifyContact(filename)"
   ]
  },
  {
   "cell_type": "code",
   "execution_count": null,
   "metadata": {},
   "outputs": [],
   "source": []
  }
 ],
 "metadata": {
  "kernelspec": {
   "display_name": "Python 3",
   "language": "python",
   "name": "python3"
  }
 },
 "nbformat": 4,
 "nbformat_minor": 2
}
