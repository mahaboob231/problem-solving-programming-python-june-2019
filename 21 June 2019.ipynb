{
 "cells": [
  {
   "cell_type": "code",
   "execution_count": 7,
   "metadata": {},
   "outputs": [
    {
     "name": "stdout",
     "output_type": "stream",
     "text": [
      "1 c\n",
      "2 b\n",
      "3 c\n",
      "4 c\n"
     ]
    }
   ],
   "source": [
    "s1=\"cbcc\"\n",
    "s2=\"cbad\"\n",
    "c=0\n",
    "for i in range(0,len(s1)):\n",
    "    if s1[i] in s2:\n",
    "        c+=1\n",
    "        print(c,s1[i])"
   ]
  },
  {
   "cell_type": "code",
   "execution_count": 10,
   "metadata": {},
   "outputs": [
    {
     "ename": "TypeError",
     "evalue": "'str' object doesn't support item deletion",
     "output_type": "error",
     "traceback": [
      "\u001b[1;31m---------------------------------------------------------------------------\u001b[0m",
      "\u001b[1;31mTypeError\u001b[0m                                 Traceback (most recent call last)",
      "\u001b[1;32m<ipython-input-10-e7e157005567>\u001b[0m in \u001b[0;36m<module>\u001b[1;34m\u001b[0m\n\u001b[0;32m      1\u001b[0m \u001b[0ms1\u001b[0m\u001b[1;33m=\u001b[0m\u001b[1;34m\"abcd\"\u001b[0m\u001b[1;33m\u001b[0m\u001b[1;33m\u001b[0m\u001b[0m\n\u001b[1;32m----> 2\u001b[1;33m \u001b[1;32mdel\u001b[0m\u001b[1;33m(\u001b[0m\u001b[0ms1\u001b[0m\u001b[1;33m[\u001b[0m\u001b[1;36m1\u001b[0m\u001b[1;33m]\u001b[0m\u001b[1;33m)\u001b[0m\u001b[1;33m\u001b[0m\u001b[1;33m\u001b[0m\u001b[0m\n\u001b[0m",
      "\u001b[1;31mTypeError\u001b[0m: 'str' object doesn't support item deletion"
     ]
    }
   ],
   "source": [
    "s1=\"abcd\"\n"
   ]
  },
  {
   "cell_type": "code",
   "execution_count": 12,
   "metadata": {},
   "outputs": [
    {
     "name": "stdout",
     "output_type": "stream",
     "text": [
      "['Twelve:', ' Eighty nine:', ' Nine:', '.']\n"
     ]
    }
   ],
   "source": [
    "import re\n",
    "\n",
    "string = 'Twelve:12 Eighty nine:89 Nine:9.'\n",
    "pattern = '\\d+'\n",
    "\n",
    "# maxsplit = 1\n",
    "# split only at the first occurrence\n",
    "result = re.split(pattern, string) \n",
    "print(result)\n",
    "\n",
    "# Output: ['Twelve:', ' Eighty nine:89 Nine:9.']"
   ]
  },
  {
   "cell_type": "code",
   "execution_count": 8,
   "metadata": {},
   "outputs": [
    {
     "name": "stdout",
     "output_type": "stream",
     "text": [
      "['shaiksha', '8142688107', 'shaikshav94@gmail.com\\nmahaboob', '9676173757', 'mahaboobbasha.s@apssdc.in\\n']\n",
      "True\n"
     ]
    }
   ],
   "source": [
    "from Packages.validators import phoneNumberValidator,emailValidator\n",
    "\n",
    "# def addcontacts(name,phonenum,email):\n",
    "#     # store data as name,phone,email in the contacts text file\n",
    "#     filename=\"DF/contacts.txt\"\n",
    "#     if not checkcontactexist(name):\n",
    "#         if phoneNumberValidator(phonenum) and emailValidator(email):\n",
    "#             with open(filename,'a') as f:\n",
    "#                 line = name+\",\"+str(phonenum)+\",\"+email+\"\\n\"\n",
    "#                 f.write(line)\n",
    "#             print(name, \"added to contacts\")\n",
    "#         else:\n",
    "#             print(\"invalid phonenum and email\")\n",
    "#     else:\n",
    "#         print(name, \"already exists\")\n",
    "#     return\n",
    "import re\n",
    "#define to check if contact already exists\n",
    "def checkcontactexist(name):\n",
    "    filename=\"DF/contacts.txt\"\n",
    "    with open(filename,'r') as f:\n",
    "        filedata=f.read()\n",
    "        print(filedata.split(\",\"))\n",
    "        #p=filedata.split(\",\")\n",
    "        pattern=name\n",
    "    return re.search(pattern,filedata)\n",
    "        \n",
    "#addcontacts(\"shaiksha\",8142688107,\"shaikshav94@gmail.com\")\n",
    "if checkcontactexist(\"maha\"):\n",
    "    print(True)\n",
    "else:\n",
    "    print(False)\n",
    "#addcontacts(\"ma\",967617357,\"mahaboobbasha.s@apssdc.in\")\n"
   ]
  },
  {
   "cell_type": "code",
   "execution_count": 58,
   "metadata": {},
   "outputs": [
    {
     "data": {
      "text/plain": [
       "'shaiksha,8142688107,shaikshav94@gmail.com\\nmahaboob,9676173757,mahaboobbasha.s@apssdc.in\\n'"
      ]
     },
     "execution_count": 58,
     "metadata": {},
     "output_type": "execute_result"
    }
   ],
   "source": [
    "filename = \"DF/contacts.txt\"\n",
    "def contactsTolist(filename):\n",
    "    li=[]\n",
    "    with open(filename,\"r\") as f:\n",
    "        for line in f:\n",
    "            li.append(line.split(\",\"))\n",
    "    return li\n",
    "def listTofile(li):\n",
    "    s=\"\"\n",
    "    for i in li:\n",
    "        #s=s+\",\".join(i)\n",
    "        s+=\",\".join(i)\n",
    "    return s\n",
    "li=contactsTolist(filename)\n",
    "listTofile(li)\n",
    "\n"
   ]
  },
  {
   "cell_type": "code",
   "execution_count": 1,
   "metadata": {},
   "outputs": [
    {
     "name": "stdout",
     "output_type": "stream",
     "text": [
      "104\n"
     ]
    }
   ],
   "source": [
    "filename=\"DF/wordcount.txt\"\n",
    "with open(filename,'r') as f:\n",
    "    filedata=f.read()\n",
    "print(len(filedata.split()))"
   ]
  },
  {
   "cell_type": "code",
   "execution_count": null,
   "metadata": {},
   "outputs": [],
   "source": []
  }
 ],
 "metadata": {
  "kernelspec": {
   "display_name": "Python 3",
   "language": "python",
   "name": "python3"
  },
  "language_info": {
   "codemirror_mode": {
    "name": "ipython",
    "version": 3
   },
   "file_extension": ".py",
   "mimetype": "text/x-python",
   "name": "python",
   "nbconvert_exporter": "python",
   "pygments_lexer": "ipython3",
   "version": "3.7.3"
  }
 },
 "nbformat": 4,
 "nbformat_minor": 2
}
