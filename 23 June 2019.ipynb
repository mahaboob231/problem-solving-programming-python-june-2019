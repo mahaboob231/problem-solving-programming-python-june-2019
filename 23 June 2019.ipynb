{
 "cells": [
  {
   "cell_type": "code",
   "execution_count": 2,
   "metadata": {},
   "outputs": [
    {
     "name": "stdout",
     "output_type": "stream",
     "text": [
      "What 1\n",
      "is 2\n",
      "Python 2\n",
      "language? 1\n",
      "a 1\n",
      "widely 1\n",
      "used 1\n",
      "high-level, 1\n",
      "general-purpose, 1\n",
      "interpreted, 1\n",
      "dynamic 1\n",
      "programming 1\n",
      "language.Its 1\n",
      "design 1\n",
      "philosophy 1\n",
      "emphasizes 1\n",
      "code 2\n",
      "readability, 1\n",
      "and 1\n",
      "its 1\n",
      "syntax 1\n",
      "allows 1\n",
      "programmers 1\n",
      "to 1\n",
      "express 1\n",
      "concepts 1\n",
      "in 2\n",
      "fewer 1\n",
      "lines 1\n",
      "of 1\n",
      "than 1\n",
      "possible 1\n",
      "languages 1\n",
      "such 1\n",
      "as 1\n",
      "C++ 1\n",
      "or 1\n",
      "Java. 1\n"
     ]
    }
   ],
   "source": [
    "#Frequency distribution words\n",
    "def readFile(filepath):\n",
    "    unique = []\n",
    "    with open(filepath,\"r\") as f:\n",
    "        filedata=f.read()\n",
    "        #print(filedata.split())\n",
    "        for i in filedata.split():\n",
    "            if i in unique:\n",
    "                continue\n",
    "            else:\n",
    "                unique.append(i)\n",
    "            print(i,filedata.split().count(i))\n",
    "    return\n",
    "readFile(\"DF/data.txt\")"
   ]
  },
  {
   "cell_type": "code",
   "execution_count": 1,
   "metadata": {},
   "outputs": [
    {
     "name": "stdout",
     "output_type": "stream",
     "text": [
      "Found a match!\n",
      "Found a match!\n",
      "Found a match!\n",
      "Found a match!\n"
     ]
    }
   ],
   "source": [
    "#Write a Python program that matches a string that has an a followed by zero or one 'b'.\n",
    "import re\n",
    "def text_match(text):\n",
    "        patterns = 'ab?'\n",
    "        if re.search(patterns,  text):\n",
    "                return 'Found a match!'\n",
    "        else:\n",
    "                return('Not matched!')\n",
    "\n",
    "print(text_match(\"ab\"))\n",
    "print(text_match(\"abc\"))\n",
    "print(text_match(\"abbc\"))\n",
    "print(text_match(\"aabbc\"))\n"
   ]
  },
  {
   "cell_type": "code",
   "execution_count": null,
   "metadata": {},
   "outputs": [],
   "source": []
  },
  {
   "cell_type": "code",
   "execution_count": 12,
   "metadata": {},
   "outputs": [
    {
     "name": "stdout",
     "output_type": "stream",
     "text": [
      "ab\n",
      "Found a Match!\n"
     ]
    }
   ],
   "source": [
    "#Write a Python program that matches a string that has an a followed by one or more b's.\n",
    "import re\n",
    "def string_match(string):\n",
    "    pattern = 'ab+?'\n",
    "    if re.search(pattern,string):\n",
    "        return \"Found a Match!\"\n",
    "    else:\n",
    "        return \"Not matched!\"\n",
    "print(string_match(input()))"
   ]
  },
  {
   "cell_type": "code",
   "execution_count": 17,
   "metadata": {},
   "outputs": [
    {
     "name": "stdout",
     "output_type": "stream",
     "text": [
      "[]\n",
      "No match\n"
     ]
    }
   ],
   "source": [
    "import re\n",
    "\n",
    "str = \"The rain in Spain falls mainly in the plain!\"\n",
    "\n",
    "#Check if the string contains \"ai\" followed by 1 or more \"x\" characters:\n",
    "\n",
    "x = re.findall(\"aix+\", str)\n",
    "\n",
    "print(x)\n",
    "\n",
    "if (x):\n",
    "  print(\"Yes, there is at least one match!\")\n",
    "else:\n",
    "  print(\"No match\")\n"
   ]
  },
  {
   "cell_type": "code",
   "execution_count": 19,
   "metadata": {},
   "outputs": [
    {
     "name": "stdout",
     "output_type": "stream",
     "text": [
      "abb\n",
      "Found a Match!\n"
     ]
    }
   ],
   "source": [
    "#Write a Python program that matches a string that has an a followed by zero or one 'b'.\n",
    "import re\n",
    "def string_match(string):\n",
    "    pattern = 'ab?'\n",
    "    if re.search(pattern,string):\n",
    "        return \"Found a Match!\"\n",
    "    else:\n",
    "        return \"Not matched!\"\n",
    "print(string_match(input()))"
   ]
  },
  {
   "cell_type": "code",
   "execution_count": 22,
   "metadata": {},
   "outputs": [
    {
     "name": "stdout",
     "output_type": "stream",
     "text": [
      "abb\n",
      "Not matched!\n"
     ]
    }
   ],
   "source": [
    "#Write a Python program that matches a string that has an a followed by three 'b'.\n",
    "import re\n",
    "def string_match(string):\n",
    "    pattern = 'ab{3}?'\n",
    "    if re.search(pattern,string):\n",
    "        return \"Found a Match!\"\n",
    "    else:\n",
    "        return \"Not matched!\"\n",
    "print(string_match(input()))\n"
   ]
  },
  {
   "cell_type": "code",
   "execution_count": 27,
   "metadata": {},
   "outputs": [
    {
     "name": "stdout",
     "output_type": "stream",
     "text": [
      "Not matched!\n",
      "Found a match!\n"
     ]
    }
   ],
   "source": [
    "#Write a Python program that matches a string that has an a followed by two to three 'b'.\n",
    "import re\n",
    "def text_match(text):\n",
    "        patterns = 'ab{2,3}?'\n",
    "        if re.search(patterns,  text):\n",
    "                return 'Found a match!'\n",
    "        else:\n",
    "                return('Not matched!')\n",
    "\n",
    "print(text_match(\"ab\"))\n",
    "print(text_match(\"aabbbbbc\"))\n"
   ]
  },
  {
   "cell_type": "code",
   "execution_count": 31,
   "metadata": {},
   "outputs": [
    {
     "name": "stdout",
     "output_type": "stream",
     "text": [
      "Found a match!\n",
      "Not matched!\n",
      "Not matched!\n"
     ]
    }
   ],
   "source": [
    "#Write a Python program to find sequences of lowercase letters joined with a underscore.\n",
    "import re\n",
    "def text_match(text):\n",
    "        patterns = '^[a-z]+_[a-z]+$'\n",
    "        if re.search(patterns,  text):\n",
    "                return 'Found a match!'\n",
    "        else:\n",
    "                return('Not matched!')\n",
    "\n",
    "print(text_match(\"aab_cbbbc\"))\n",
    "print(text_match(\"aab_Abbbc\"))\n",
    "print(text_match(\"Aaab_abbbc\"))"
   ]
  },
  {
   "cell_type": "code",
   "execution_count": 39,
   "metadata": {},
   "outputs": [
    {
     "name": "stdout",
     "output_type": "stream",
     "text": [
      "Found a match!\n",
      "Found a match!\n",
      "Not matched!\n"
     ]
    }
   ],
   "source": [
    "#Write a Python program to find sequences of one upper case letter followed by lower case letters. \n",
    "import re\n",
    "def text_match(text):\n",
    "        patterns = '[A-Z]+[a-z]+$'\n",
    "        if re.search(patterns,  text):\n",
    "                return 'Found a match!'\n",
    "        else:\n",
    "                return('Not matched!')\n",
    "\n",
    "print(text_match(\"Geeks\"))\n",
    "print(text_match(\"geeksforGeeks\"))\n",
    "print(text_match(\"geeks\"))"
   ]
  },
  {
   "cell_type": "code",
   "execution_count": 42,
   "metadata": {},
   "outputs": [
    {
     "name": "stdout",
     "output_type": "stream",
     "text": [
      "Not matched!\n",
      "Not matched!\n",
      "Found a match!\n"
     ]
    }
   ],
   "source": [
    "#Write a Python program that matches a string that has an 'a' followed by anything, ending in 'b'.\n",
    "import re\n",
    "def text_match(text):\n",
    "        patterns = 'a.*?b$'\n",
    "        if re.search(patterns,  text):\n",
    "                return 'Found a match!'\n",
    "        else:\n",
    "                return('Not matched!')\n",
    "\n",
    "print(text_match(\"aabbbbd\"))\n",
    "print(text_match(\"aabAbbbc\"))\n",
    "print(text_match(\"accddbbjjjb\"))\n"
   ]
  },
  {
   "cell_type": "code",
   "execution_count": null,
   "metadata": {},
   "outputs": [],
   "source": []
  }
 ],
 "metadata": {
  "kernelspec": {
   "display_name": "Python 3",
   "language": "python",
   "name": "python3"
  },
  "language_info": {
   "codemirror_mode": {
    "name": "ipython",
    "version": 3
   },
   "file_extension": ".py",
   "mimetype": "text/x-python",
   "name": "python",
   "nbconvert_exporter": "python",
   "pygments_lexer": "ipython3",
   "version": "3.7.3"
  }
 },
 "nbformat": 4,
 "nbformat_minor": 2
}
