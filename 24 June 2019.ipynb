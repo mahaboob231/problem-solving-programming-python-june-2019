{
 "cells": [
  {
   "cell_type": "code",
   "execution_count": null,
   "metadata": {},
   "outputs": [],
   "source": [
    "# Contact Application\n",
    "    #add,search,list,Modify delete contacts\n",
    "    \n",
    "# Find and Replace Application\n",
    "    # Count the total no of occcurrences of a word\n",
    "    # If word is existing\n",
    "    # Replace all occurrences of a word with another word\n",
    "\n",
    "# Marks Analysis Application\n",
    "    # Generate marks file for n students\n",
    "    # Input : Marks file = each line conatains marks of one student\n",
    "    # Generate a report with the following information\n",
    "        # Class Average\n",
    "        # Percentage of students passed\n",
    "        # % of failed students\n",
    "        # percentage of students with distinction\n",
    "        # Highest mark frequency\n",
    "        # Lowest Mark frequency"
   ]
  },
  {
   "cell_type": "code",
   "execution_count": 3,
   "metadata": {},
   "outputs": [],
   "source": [
    "# Function to generate marks data for n students\n",
    "from random import randint\n",
    "\n",
    "def generateMarks(n,lb,ub):\n",
    "    with open(\"DF/marks.txt\",\"w\") as f:\n",
    "        for i in range(0,n):\n",
    "            r=randint(lb,ub)\n",
    "            f.write(str(r)+\"\\n\")\n",
    "    return\n",
    "generateMarks(10000,0,100)"
   ]
  },
  {
   "cell_type": "code",
   "execution_count": 5,
   "metadata": {},
   "outputs": [
    {
     "data": {
      "text/plain": [
       "50.0497"
      ]
     },
     "execution_count": 5,
     "metadata": {},
     "output_type": "execute_result"
    }
   ],
   "source": [
    "def average(n):\n",
    "    with open(\"DF/marks.txt\",\"r\") as f:\n",
    "        fi=f.read()\n",
    "        sum=0\n",
    "        for i in fi.split():\n",
    "            sum=sum+int(i)\n",
    "    return sum/n\n",
    "average(10000)         \n",
    "    "
   ]
  },
  {
   "cell_type": "code",
   "execution_count": 7,
   "metadata": {},
   "outputs": [
    {
     "data": {
      "text/plain": [
       "88.37175847207875"
      ]
     },
     "execution_count": 7,
     "metadata": {},
     "output_type": "execute_result"
    }
   ],
   "source": [
    "def passPercentage():\n",
    "    with open(\"DF/marks.txt\",\"r\") as f:\n",
    "        fi=f.read()\n",
    "        sum1=0\n",
    "        sum2=0\n",
    "        for i in fi.split():\n",
    "            if int(i)>=35:\n",
    "                sum1=sum1+int(i)\n",
    "        for i in fi.split():\n",
    "            sum2=sum2+int(i)\n",
    "    return (sum1/sum2)*100\n",
    "passPercentage()"
   ]
  },
  {
   "cell_type": "code",
   "execution_count": 8,
   "metadata": {},
   "outputs": [
    {
     "data": {
      "text/plain": [
       "37.264359226928434"
      ]
     },
     "execution_count": 8,
     "metadata": {},
     "output_type": "execute_result"
    }
   ],
   "source": [
    "def distinctionPercentage():\n",
    "    with open(\"DF/marks.txt\",\"r\") as f:\n",
    "        fi=f.read()\n",
    "        sum1=0\n",
    "        sum2=0\n",
    "        for i in fi.split():\n",
    "            if int(i)>=80:\n",
    "                sum1=sum1+int(i)\n",
    "        for i in fi.split():\n",
    "            sum2=sum2+int(i)\n",
    "    return (sum1/sum2)*100\n",
    "distinctionPercentage()"
   ]
  },
  {
   "cell_type": "code",
   "execution_count": 18,
   "metadata": {},
   "outputs": [
    {
     "name": "stdout",
     "output_type": "stream",
     "text": [
      "100 : 98\n"
     ]
    }
   ],
   "source": [
    "def highestMarkfrequency():\n",
    "    with open(\"DF/marks.txt\",\"r\") as f:\n",
    "        fi=f.read()\n",
    "        li=list(map(int,fi.split()))\n",
    "        count=0\n",
    "        for i in li:\n",
    "            if i== max(li):\n",
    "                count+=1\n",
    "        print(max(li),\":\",count)\n",
    "    \n",
    "highestMarkfrequency()  \n",
    "# with open(\"DF/marks.txt\",\"r\") as f:\n",
    "#     fi=f.read()\n",
    "#     print(max(fi.split()),\":\",fi.split().count(max(fi.split())))"
   ]
  },
  {
   "cell_type": "code",
   "execution_count": 23,
   "metadata": {},
   "outputs": [
    {
     "name": "stdout",
     "output_type": "stream",
     "text": [
      "0 : 93\n"
     ]
    }
   ],
   "source": [
    "def lowestMarkfrequency():\n",
    "    with open(\"DF/marks.txt\",\"r\") as f:\n",
    "        with open(\"DF/marks.txt\",\"r\") as f:\n",
    "            fi=f.read()\n",
    "            li=list(map(int,fi.split()))\n",
    "            count=0\n",
    "            for i in li:\n",
    "                if i== min(li):\n",
    "                    count+=1\n",
    "            print(min(li),\":\",count)\n",
    "lowestMarkfrequency()\n",
    "# '''with open(\"DF/marks.txt\",\"r\") as f:\n",
    "#         fi=f.read()\n",
    "#         print(min(fi.split()),\":\",fi.split().count(min(fi.split())))'''"
   ]
  },
  {
   "cell_type": "code",
   "execution_count": null,
   "metadata": {},
   "outputs": [],
   "source": [
    "def marksReport():\n",
    "    "
   ]
  },
  {
   "cell_type": "code",
   "execution_count": 42,
   "metadata": {},
   "outputs": [
    {
     "name": "stdout",
     "output_type": "stream",
     "text": [
      "63\n"
     ]
    }
   ],
   "source": [
    "with open(\"DF/marks.txt\",\"r\") as f:\n",
    "        #fi=f.read()\n",
    "            print(max(i.strip().split()))\n",
    "        #print(f,end=\"\")\n",
    "        #print(max(fi))"
   ]
  },
  {
   "cell_type": "code",
   "execution_count": 6,
   "metadata": {},
   "outputs": [
    {
     "name": "stdout",
     "output_type": "stream",
     "text": [
      "Python\n",
      "Java\n"
     ]
    },
    {
     "data": {
      "text/plain": [
       "'The Python has been successfully replaced'"
      ]
     },
     "execution_count": 6,
     "metadata": {},
     "output_type": "execute_result"
    }
   ],
   "source": [
    "# Find and replace Application\n",
    "def findAndreplace(s):\n",
    "    with open(\"DF/data.txt\",\"r\") as f:\n",
    "        fi=f.read()\n",
    "        if s in fi.split():\n",
    "            fi=fi.replace(s,input(),fi.split().count(s))\n",
    "        else:\n",
    "            print(s,\"not found in the file\")\n",
    "        #print(fi)\n",
    "    with open(\"DF/data.txt\",\"w\") as f:\n",
    "        f.write(fi)\n",
    "    return \"The \"+s+\" has been successfully replaced\"\n",
    "\n",
    "#findAndreplace(input())       "
   ]
  },
  {
   "cell_type": "code",
   "execution_count": 2,
   "metadata": {},
   "outputs": [
    {
     "data": {
      "text/plain": [
       "'The Python word appears 5 times '"
      ]
     },
     "execution_count": 2,
     "metadata": {},
     "output_type": "execute_result"
    }
   ],
   "source": [
    "def totalOccurences(word):\n",
    "    with open(\"DF/data.txt\",\"r\") as f:\n",
    "        fi=f.read()\n",
    "        for s in fi.split():\n",
    "            if s == word:\n",
    "                return \"The \"+word+\" word appears \"+str(fi.split().count(word))+\" times \"\n",
    "            else:\n",
    "                return word+\" not found in the file\"\n",
    "totalOccurences(\"Python\")            "
   ]
  },
  {
   "cell_type": "code",
   "execution_count": 8,
   "metadata": {},
   "outputs": [
    {
     "name": "stdout",
     "output_type": "stream",
     "text": [
      "please select the one of the below options:\n",
      "\n",
      "1. Count the total no of occcurrences of a word\n",
      "2. If word is existing\n",
      "3. Replace all occurrences of a word with another word\n",
      "3\n",
      "enter a word you want to replace:Java\n",
      "Python\n",
      "The Java has been successfully replaced\n"
     ]
    }
   ],
   "source": [
    "def menu():\n",
    "    print(\"please select the one of the below options:\")\n",
    "    print()\n",
    "    print(\"1. Count the total no of occcurrences of a word\")\n",
    "    print(\"2. If word is existing\")\n",
    "    print(\"3. Replace all occurrences of a word with another word\")\n",
    "    \n",
    "    g = int(input())\n",
    "    if g == 1 or g==2:\n",
    "        word=input(\"enter a word you want to search:\")\n",
    "        print(totalOccurences(word))\n",
    "    if g == 3:\n",
    "        word=input(\"enter a word you want to replace:\") \n",
    "        print(findAndreplace(word))\n",
    "        \n",
    "menu()      "
   ]
  },
  {
   "cell_type": "markdown",
   "metadata": {},
   "source": [
    "# "
   ]
  },
  {
   "cell_type": "code",
   "execution_count": null,
   "metadata": {},
   "outputs": [],
   "source": []
  },
  {
   "cell_type": "code",
   "execution_count": null,
   "metadata": {},
   "outputs": [],
   "source": []
  },
  {
   "cell_type": "code",
   "execution_count": 4,
   "metadata": {},
   "outputs": [
    {
     "name": "stdout",
     "output_type": "stream",
     "text": [
      "\n"
     ]
    },
    {
     "ename": "ValueError",
     "evalue": "invalid literal for int() with base 10: ''",
     "output_type": "error",
     "traceback": [
      "\u001b[1;31m---------------------------------------------------------------------------\u001b[0m",
      "\u001b[1;31mValueError\u001b[0m                                Traceback (most recent call last)",
      "\u001b[1;32m<ipython-input-4-7a92eebd68af>\u001b[0m in \u001b[0;36m<module>\u001b[1;34m\u001b[0m\n\u001b[1;32m----> 1\u001b[1;33m \u001b[0mt\u001b[0m\u001b[1;33m=\u001b[0m\u001b[0mint\u001b[0m\u001b[1;33m(\u001b[0m\u001b[0minput\u001b[0m\u001b[1;33m(\u001b[0m\u001b[1;33m)\u001b[0m\u001b[1;33m)\u001b[0m\u001b[1;33m\u001b[0m\u001b[1;33m\u001b[0m\u001b[0m\n\u001b[0m\u001b[0;32m      2\u001b[0m \u001b[1;32mfor\u001b[0m \u001b[0mi\u001b[0m \u001b[1;32min\u001b[0m \u001b[0mrange\u001b[0m\u001b[1;33m(\u001b[0m\u001b[0mt\u001b[0m\u001b[1;33m)\u001b[0m\u001b[1;33m:\u001b[0m\u001b[1;33m\u001b[0m\u001b[1;33m\u001b[0m\u001b[0m\n\u001b[0;32m      3\u001b[0m     \u001b[0ms1\u001b[0m\u001b[1;33m=\u001b[0m\u001b[0minput\u001b[0m\u001b[1;33m(\u001b[0m\u001b[1;33m)\u001b[0m\u001b[1;33m\u001b[0m\u001b[1;33m\u001b[0m\u001b[0m\n\u001b[0;32m      4\u001b[0m     \u001b[0mx\u001b[0m\u001b[1;33m=\u001b[0m\u001b[0ms1\u001b[0m\u001b[1;33m\u001b[0m\u001b[1;33m\u001b[0m\u001b[0m\n\u001b[0;32m      5\u001b[0m     \u001b[0ms2\u001b[0m\u001b[1;33m=\u001b[0m\u001b[0minput\u001b[0m\u001b[1;33m(\u001b[0m\u001b[1;33m)\u001b[0m\u001b[1;33m\u001b[0m\u001b[1;33m\u001b[0m\u001b[0m\n",
      "\u001b[1;31mValueError\u001b[0m: invalid literal for int() with base 10: ''"
     ]
    }
   ],
   "source": [
    "t=int(input())\n",
    "for i in range(t):\n",
    "    s1=input()\n",
    "    x=s1\n",
    "    s2=input()\n",
    "    y=s2\n",
    "    l=[]\n",
    "    for j in range(0,min(len(x),len(y))):\n",
    "        if len(x)>=len(y):\n",
    "            if s2[j] in s1:\n",
    "                l.append(s2[j])\n",
    "                s1=list(s1)\n",
    "                s1.pop(j)\n",
    "                s1=str(s1)\n",
    "        if len(y)>len(x):\n",
    "            if s1[j] in s2:\n",
    "                l.append(s1[j])\n",
    "                s2=list(s1)\n",
    "                s2.pop(j)\n",
    "                s2=str(s2)\n",
    "    print(abs(len(x)-len(l)+len(y)-len(l)))"
   ]
  },
  {
   "cell_type": "code",
   "execution_count": 17,
   "metadata": {},
   "outputs": [
    {
     "name": "stdout",
     "output_type": "stream",
     "text": [
      "['j', 'd', 'f', 'a', 'g', 'h', 'f', 's', 'd', 'a', 's', 'g', 'd', 'f', 'a', 'g', 's', 'd', 'h', 'g', 'a', 's', 'd', 'f', 'a', 's', 'f', 'd', 'a', 'h', 'd']\n"
     ]
    }
   ],
   "source": [
    "a=\"ajdfaghfsdasgdfagsdhgasdfasfdahd\"\n",
    "a=list(a)\n",
    "a.pop(0)\n",
    "print(str(a))"
   ]
  },
  {
   "cell_type": "code",
   "execution_count": 20,
   "metadata": {},
   "outputs": [
    {
     "name": "stdout",
     "output_type": "stream",
     "text": [
      "9\n"
     ]
    }
   ],
   "source": [
    "a=[\"2\",\"100\",\"9\",\"45\"]\n",
    "print(max(a))"
   ]
  },
  {
   "cell_type": "code",
   "execution_count": null,
   "metadata": {},
   "outputs": [],
   "source": []
  }
 ],
 "metadata": {
  "kernelspec": {
   "display_name": "Python 3",
   "language": "python",
   "name": "python3"
  },
  "language_info": {
   "codemirror_mode": {
    "name": "ipython",
    "version": 3
   },
   "file_extension": ".py",
   "mimetype": "text/x-python",
   "name": "python",
   "nbconvert_exporter": "python",
   "pygments_lexer": "ipython3",
   "version": "3.7.3"
  }
 },
 "nbformat": 4,
 "nbformat_minor": 2
}
