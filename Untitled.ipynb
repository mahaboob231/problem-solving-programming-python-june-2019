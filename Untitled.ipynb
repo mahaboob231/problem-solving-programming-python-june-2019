{
 "cells": [
  {
   "cell_type": "code",
   "execution_count": 1,
   "metadata": {},
   "outputs": [
    {
     "name": "stdout",
     "output_type": "stream",
     "text": [
      "3\n",
      "aabbccdd\n",
      "aabcc\n",
      "hackerearth\n",
      "[(1, 'c'), (1, 'k'), (1, 't'), (2, 'a'), (2, 'e'), (2, 'h'), (2, 'r')]\n"
     ]
    }
   ],
   "source": [
    "t  = int(input())\n",
    "for i in range(t):\n",
    "    s = input()\n",
    "    d =dict()\n",
    "    for i in s:\n",
    "        d[i]=s.count(i)\n",
    "    d1 = sorted((value, key) for (key,value) in d.items())\n",
    "print(d1)"
   ]
  },
  {
   "cell_type": "code",
   "execution_count": 3,
   "metadata": {},
   "outputs": [
    {
     "data": {
      "text/plain": [
       "[45, 34, 23, 6, 5, 5, 4, 2, 1]"
      ]
     },
     "execution_count": 3,
     "metadata": {},
     "output_type": "execute_result"
    }
   ],
   "source": [
    "li=[2,4,1,6,5,34,5,23,45]\n",
    "a=sorted(li,reverse=True)\n",
    "a"
   ]
  },
  {
   "cell_type": "code",
   "execution_count": null,
   "metadata": {},
   "outputs": [],
   "source": []
  }
 ],
 "metadata": {
  "kernelspec": {
   "display_name": "Python 3",
   "language": "python",
   "name": "python3"
  },
  "language_info": {
   "codemirror_mode": {
    "name": "ipython",
    "version": 3
   },
   "file_extension": ".py",
   "mimetype": "text/x-python",
   "name": "python",
   "nbconvert_exporter": "python",
   "pygments_lexer": "ipython3",
   "version": "3.7.3"
  }
 },
 "nbformat": 4,
 "nbformat_minor": 2
}
