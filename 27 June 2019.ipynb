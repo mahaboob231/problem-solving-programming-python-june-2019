{
 "cells": [
  {
   "cell_type": "code",
   "execution_count": 9,
   "metadata": {},
   "outputs": [
    {
     "name": "stdout",
     "output_type": "stream",
     "text": [
      "1 2\n",
      "1 3\n",
      "1 4\n",
      "2 3\n",
      "2 4\n",
      "3 4\n"
     ]
    }
   ],
   "source": [
    "# Functions to print all combinations of pairs of integers in a unique list\n",
    "# [1,2,3] -> (1,2),(1,3),(2,3) -> 3C2 -> 3!/(3-2)!*2!\n",
    "\n",
    "# \n",
    "def combinarions(li):\n",
    "    for i in range(len(li)-1):\n",
    "        for j in range(i+1,len(li)):\n",
    "            print(li[i],li[j])\n",
    "    return\n",
    "combinarions([1,2,3,4])"
   ]
  },
  {
   "cell_type": "code",
   "execution_count": 14,
   "metadata": {},
   "outputs": [
    {
     "name": "stdout",
     "output_type": "stream",
     "text": [
      "1 2 3\n",
      "1 2 4\n",
      "1 2 5\n",
      "1 3 4\n",
      "1 3 5\n",
      "1 4 5\n",
      "2 3 4\n",
      "2 3 5\n",
      "2 4 5\n",
      "3 4 5\n"
     ]
    }
   ],
   "source": [
    "def combinarions3(li):\n",
    "    for i in range(len(li)-2):\n",
    "        for j in range(i+1,len(li)-1):\n",
    "            for k in range(j+1,len(li)):\n",
    "                print(li[i],li[j],li[k])\n",
    "    return\n",
    "combinarions3([1,2,3,4,5])"
   ]
  },
  {
   "cell_type": "code",
   "execution_count": 62,
   "metadata": {},
   "outputs": [],
   "source": [
    "def medium(li,k):\n",
    "    count = 1\n",
    "    while True:\n",
    "        #li3=[[],li]\n",
    "        li3=differencePairs(li)\n",
    "        if li3[0] == li3[1]:\n",
    "            break\n",
    "    if len(li3[0])>=k:\n",
    "            return sorted(li3[0],reverse=True)\n",
    "    return -1\n",
    "\n",
    "# Function to identify all pairs of numbers in a given list\n",
    "# And add all those differences \n",
    "#to the same list\n",
    "#It returns the updated list and original list\n",
    "\n",
    "# def differencePairs(li):\n",
    "#     cli = li[:]\n",
    "#     newelements = []\n",
    "#     for i in range(len(li)-1):\n",
    "#         for j in range(i+1,len(li)):\n",
    "#             d=abs(li[i]-li[j])\n",
    "#             #print(li[i],li[j])\n",
    "#             if d not in li and d not in newelements:\n",
    "#                 newelements.append(d)\n",
    "#     li.extend(newelements)\n",
    "#     return [cli,li]\n",
    "# # li[1]\n",
    "# # medium(li,2)\n",
    "# li=[1,3,9]\n",
    "# differencePairs(li)\n",
    "# medium()"
   ]
  },
  {
   "cell_type": "code",
   "execution_count": null,
   "metadata": {},
   "outputs": [],
   "source": [
    "def differencePairs(li):\n",
    "    cli = li[:]\n",
    "    newelements = []\n",
    "    for i in range(len(li)-1):\n",
    "        for j in range(i+1,len(li)):\n",
    "            d=abs(int(li[i])-int(li[j]))\n",
    "            #print(li[i],li[j])\n",
    "            if d not in li and d not in newelements:\n",
    "                newelements.append(str(d))\n",
    "    li.extend(newelements)\n",
    "    a=[cli,li]\n",
    "    if len(a[0]) == len(a[1]):\n",
    "        return a[1]\n",
    "    else:\n",
    "        differencePairs(a[1])\n",
    "with open(\"medium-input.txt\",\"r\") as f:\n",
    "    t=int(f.readline())\n",
    "    for i in range(t):\n",
    "        f.readline()\n",
    "        li=f.readline().split()\n",
    "        k=int(f.readline())\n",
    "        ab=differencePairs(li)\n",
    "        print(kthighesttFrequency(ab,k))\n",
    "\n",
    "\n",
    "#li=[3, 8, 15, 5, 12, 7, 2, 9, 4, 1, 10, 6, 13, 11, 14]\n",
    "#differencePairs(li)\n"
   ]
  },
  {
   "cell_type": "code",
   "execution_count": null,
   "metadata": {},
   "outputs": [],
   "source": [
    "def kthighesttFrequency(li,k):\n",
    "    unique = {}\n",
    "    for n in li:\n",
    "        if n in unique:\n",
    "            unique[n]+=1\n",
    "        else:\n",
    "            unique[n]=1\n",
    "    x=[]\n",
    "    vq=[]\n",
    "    for item in unique.items():\n",
    "        x.append(item[1]) \n",
    "    for n in x:\n",
    "        if n not in vq:\n",
    "            vq.append(n)\n",
    "    vq=sorted(vq,reverse=True)\n",
    "\n",
    "    if k<=len(vq):\n",
    "        kl=[]\n",
    "        for item in unique.items():\n",
    "            if item[1]==vq[k-1]:\n",
    "                kl.append(item[0])\n",
    "        #print(kl)\n",
    "        return min(kl)\n",
    "    else:\n",
    "        return -1\n",
    "#kthighesttFrequency([1,2,3,2,1,4,4,4,0,0,0,0,0],4)"
   ]
  },
  {
   "cell_type": "code",
   "execution_count": null,
   "metadata": {},
   "outputs": [],
   "source": [
    "#a=b.copy() # Data Copy through indirect referencing\n",
    "#a=b[:] #Data Copy through direct referencing\n",
    "def differencePairs(li):\n",
    "    c = li.copy()\n",
    "    newelements = []\n",
    "    for i in range(len(li)-1):\n",
    "        for j in range(i+1,len(li)):\n",
    "            d=abs(int(li[i])-int(li[j]))\n",
    "            if d not in li and d not in newelements:\n",
    "                newelements.append(d)\n",
    "    li.extend(newelements)\n",
    "    return li\n",
    "li=[3,6,9,12]\n",
    "differencePairs(li)"
   ]
  },
  {
   "cell_type": "code",
   "execution_count": null,
   "metadata": {},
   "outputs": [],
   "source": []
  },
  {
   "cell_type": "markdown",
   "metadata": {},
   "source": [
    "### set - Data Structure in Python\n",
    "- Represented by '{}'\n",
    "- It contain only unique elements\n",
    "- It is mutable\n",
    "- \n"
   ]
  },
  {
   "cell_type": "code",
   "execution_count": 7,
   "metadata": {},
   "outputs": [
    {
     "data": {
      "text/plain": [
       "{1, 2, 3, 4, 5, 6, 7, 8, 9}"
      ]
     },
     "execution_count": 7,
     "metadata": {},
     "output_type": "execute_result"
    }
   ],
   "source": [
    "a={1,2,3,4,5,6,6}\n",
    "a.add(7) #Adding single element\n",
    "# for i in a:\n",
    "#     print(i,end=\" \")   --> Accessing elements\n",
    "b={7,8,9}\n",
    "li=[11,12,13]\n",
    "a.update(b) #Adding Multiple elements at a time\n",
    "#a.remove(11)\n",
    "a.discard(13)\n",
    "a"
   ]
  },
  {
   "cell_type": "code",
   "execution_count": 4,
   "metadata": {},
   "outputs": [],
   "source": [
    "a={1,2,3,4,5,6,10}\n",
    "b={7,8,9,1,2,3}\n",
    "a.union(b)\n",
    "b.union(a)\n",
    "# A U B = B U A\n",
    "a.intersection(b)\n",
    "\n",
    "a.isdisjoint(b)\n",
    "a-b  # All elements of a which are not in b\n",
    "b-a\n",
    "sorted(a) # returns a list in a order \n",
    "a^b # Elements either in a or in b but not in both\n",
    "d=set() # Create an empty set"
   ]
  },
  {
   "cell_type": "code",
   "execution_count": null,
   "metadata": {},
   "outputs": [],
   "source": [
    "Procedural : C\n",
    "    \n",
    "Object Oriented :Java, Python\n",
    "    \n",
    "Scripting : PHP, Python, Javascript, Shell,Perl\n",
    "\n",
    "Functional : Python, Haskel, Scala\n",
    "    \n",
    "Logic : Prolog, Lisp"
   ]
  },
  {
   "cell_type": "markdown",
   "metadata": {},
   "source": [
    "### List Comprehensions"
   ]
  },
  {
   "cell_type": "code",
   "execution_count": null,
   "metadata": {},
   "outputs": [],
   "source": [
    "# N natural numbers in a list\n",
    "n=10\n",
    "# li=[]\n",
    "# for i in range(1,n+1):\n",
    "#     li.append(i)\n",
    "li=[i for i in range(1,11)]\n",
    "\n",
    "    "
   ]
  },
  {
   "cell_type": "code",
   "execution_count": null,
   "metadata": {},
   "outputs": [],
   "source": [
    "# Apply list comprehension to store the cubes of n natural numbers\n",
    "li=[i**3 for i in range(1,11)]"
   ]
  },
  {
   "cell_type": "code",
   "execution_count": 3,
   "metadata": {},
   "outputs": [
    {
     "name": "stdout",
     "output_type": "stream",
     "text": [
      "[1, 2, 6, 24, 120]\n"
     ]
    }
   ],
   "source": [
    "# Function to calculate the Factorial\n",
    "\n",
    "def factorial(n):\n",
    "    if n==0 or n==1:\n",
    "        return 1\n",
    "    else:\n",
    "        return n*factorial(n-1)\n",
    "factorial(5)\n",
    "\n",
    "# Apply list comprehension to calculate factorial of n natural numbers\n",
    "n=5\n",
    "factoriallist =[factorial(i) for i in range(1,n+1)]\n",
    "print(factoriallist)"
   ]
  },
  {
   "cell_type": "code",
   "execution_count": 2,
   "metadata": {},
   "outputs": [
    {
     "data": {
      "text/plain": [
       "[1, 3, 6, 10, 15, 21]"
      ]
     },
     "execution_count": 2,
     "metadata": {},
     "output_type": "execute_result"
    }
   ],
   "source": [
    "# Store cumulative sum of numbers till n in a list\n",
    "# n=3,[1,3,6]\n",
    "\n",
    "\n",
    "# def cumulativesum(n):\n",
    "#     sum=0\n",
    "#     for i in range(1,n+1):\n",
    "#         sum+=i\n",
    "#     return sum\n",
    "# #cumulativesum(5)\n",
    "        \n",
    "# n=5\n",
    "# v=[cumulativesum(i) for i in range(1,n+1)]\n",
    "# v\n",
    "n=6\n",
    "cumulativesum=[sum(range(1,i+1)) for i in range(1,n+1)]\n",
    "cumulativesum"
   ]
  },
  {
   "cell_type": "code",
   "execution_count": 1,
   "metadata": {},
   "outputs": [
    {
     "data": {
      "text/plain": [
       "[1972, 1976, 1980, 1984, 1988, 1992, 1996, 2000, 2004, 2008, 2012, 2016]"
      ]
     },
     "execution_count": 1,
     "metadata": {},
     "output_type": "execute_result"
    }
   ],
   "source": [
    "# List comprehension Store only leap years in a given time period\n",
    "\n",
    "st = 1970\n",
    "et = 2019\n",
    "leapYears=[i for i in range(st,et+1) if i%400==0 or (i%4==0 and i%100!=0)]\n",
    "leapYears\n"
   ]
  },
  {
   "cell_type": "code",
   "execution_count": 30,
   "metadata": {},
   "outputs": [
    {
     "data": {
      "text/plain": [
       "[1, 2, 3]"
      ]
     },
     "execution_count": 30,
     "metadata": {},
     "output_type": "execute_result"
    }
   ],
   "source": [
    "li = [1,2,3,2,1]\n",
    "li.sort()\n",
    "unique = []\n",
    "u2=[]\n",
    "#unique=[li[i] for i in range(0,len(li)-1) if (li[i]!=li[i+1]) and (i<len(li)-1) or i==len(li)-2]\n",
    "[u2.append(i) for i in li if i not in u2]\n",
    "u2\n"
   ]
  },
  {
   "cell_type": "markdown",
   "metadata": {},
   "source": [
    "### Iterators\n",
    "- Iterable - Strings, lists, Tuples, Sets, Dictionaries\n",
    "- Convert Iterable to Iterator --> iter()\n",
    "- For Loop: cant stop during execution\n",
    "- Iterator: can stop during the execution\n"
   ]
  },
  {
   "cell_type": "code",
   "execution_count": 43,
   "metadata": {},
   "outputs": [
    {
     "name": "stdout",
     "output_type": "stream",
     "text": [
      "1: \n",
      "P\n",
      "\n",
      "\n",
      "2: \n",
      "y\n"
     ]
    }
   ],
   "source": [
    "\n",
    "it = iter(\"Python\")\n",
    "print(\"1: \")\n",
    "print(next(it))\n",
    "print(\"\\n\")\n",
    "print(\"2: \")\n",
    "print(next(it))\n"
   ]
  },
  {
   "cell_type": "markdown",
   "metadata": {},
   "source": [
    "### Generator\n",
    "\n",
    "- Generator is a Function\n",
    "- Start generating code"
   ]
  },
  {
   "cell_type": "code",
   "execution_count": 3,
   "metadata": {},
   "outputs": [
    {
     "data": {
      "text/plain": [
       "8"
      ]
     },
     "execution_count": 3,
     "metadata": {},
     "output_type": "execute_result"
    }
   ],
   "source": [
    "\n",
    "def generator(n):\n",
    "    while True:\n",
    "        n **=3\n",
    "        yield n\n",
    "    \n",
    "    \n",
    "\n",
    "a=generator(2)\n",
    "next(a)\n",
    "# for i in range(5):\n",
    "#     print(next(a))\n",
    "# next(a)\n"
   ]
  },
  {
   "cell_type": "code",
   "execution_count": null,
   "metadata": {},
   "outputs": [],
   "source": [
    "# define a function `call` where you provide the function and the arguments\n",
    "def call(x, f):\n",
    "    return f(x)\n",
    "\n",
    "# define a function that returns the square\n",
    "square = lambda x : x*x\n",
    "\n",
    "# define a function that returns the increment\n",
    "increment = lambda x : x+1\n",
    "\n",
    "# define a function that returns the cube\n",
    "cube = lambda x : x*x*x\n",
    "\n",
    "# define a function that returns the decrement\n",
    "decrement = lambda x : x-1\n",
    "\n",
    "# put all the functions in a list in the order that you want to execute them\n",
    "funcs = [square, increment, cube, decrement]\n",
    "\n",
    "# bring it all together. Below is the non functional part. \n",
    "# in functional programming you separate the functional and the non functional parts.\n",
    "from functools import reduce # reduce is in the functools library\n",
    "print(reduce(call, funcs, 96)) # output 783012621312"
   ]
  }
 ],
 "metadata": {
  "kernelspec": {
   "display_name": "Python 3",
   "language": "python",
   "name": "python3"
  },
  "language_info": {
   "codemirror_mode": {
    "name": "ipython",
    "version": 3
   },
   "file_extension": ".py",
   "mimetype": "text/x-python",
   "name": "python",
   "nbconvert_exporter": "python",
   "pygments_lexer": "ipython3",
   "version": "3.7.3"
  }
 },
 "nbformat": 4,
 "nbformat_minor": 2
}
