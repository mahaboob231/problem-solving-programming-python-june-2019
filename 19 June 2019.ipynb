{
 "cells": [
  {
   "cell_type": "code",
   "execution_count": 3,
   "metadata": {},
   "outputs": [
    {
     "data": {
      "text/plain": [
       "[0, 1, 3, 6, 10, 15, 21, 28, 36, 45]"
      ]
     },
     "execution_count": 3,
     "metadata": {},
     "output_type": "execute_result"
    }
   ],
   "source": [
    "m=[0]\n",
    "for i in range(1,10):\n",
    "    m.append(m[i-1]+i)\n",
    "m\n"
   ]
  },
  {
   "cell_type": "code",
   "execution_count": 7,
   "metadata": {},
   "outputs": [
    {
     "name": "stdout",
     "output_type": "stream",
     "text": [
      "4 8\n",
      "8 0 0 0\n",
      "4\n"
     ]
    }
   ],
   "source": [
    "n,x=map(int,input().split())\n",
    "l=list(map(int,input().split()))\n",
    "m=[0]\n",
    "for i in range(1,n+1):\n",
    "    m.append(m[i-1]+l[i-1])\n",
    "#print(m)\n",
    "if(m[-1]<=x):\n",
    "    print(n)\n",
    "else:\n",
    "    j=n-1\n",
    "    while(j>0):\n",
    "        k=j\n",
    "        i=1\n",
    "        c=0\n",
    "        while(k<=n):\n",
    "            s=m[k]-m[i-1]\n",
    "            if(s>x):\n",
    "                c=1\n",
    "                break\n",
    "            k+=1\n",
    "            i+=1\n",
    "            #print(s)\n",
    "        if(c==0):\n",
    "            print(j)\n",
    "            break\n",
    "        j-=1"
   ]
  },
  {
   "cell_type": "code",
   "execution_count": 8,
   "metadata": {},
   "outputs": [
    {
     "data": {
      "text/plain": [
       "[0, 0, 0, 0, 0]"
      ]
     },
     "execution_count": 8,
     "metadata": {},
     "output_type": "execute_result"
    }
   ],
   "source": [
    "psum=[0]*(4+1)\n",
    "psum"
   ]
  },
  {
   "cell_type": "code",
   "execution_count": 9,
   "metadata": {},
   "outputs": [
    {
     "name": "stdout",
     "output_type": "stream",
     "text": [
      "13Y357-22\n",
      "invalid\n"
     ]
    }
   ],
   "source": [
    "vowels = [\"A\",\"E\",\"I\",\"O\",\"U\",\"Y\"]\n",
    "s=input()\n",
    "if (int(s[0])+int(s[1]))%2==0 and (int(s[3])+int(s[4]))%2==0 and (int(s[4])+int(s[5]))%2==0 and (int(s[7])+int(s[8]))%2==0 and s[2] not in vowels:\n",
    "    print(\"valid\")\n",
    "else:\n",
    "    print(\"invalid\")"
   ]
  },
  {
   "cell_type": "code",
   "execution_count": 10,
   "metadata": {},
   "outputs": [
    {
     "name": "stdout",
     "output_type": "stream",
     "text": [
      "3\n",
      "0\n",
      "111\n",
      "1\n",
      "1\n",
      "9\n",
      "111\n"
     ]
    }
   ],
   "source": [
    "d={\"0\":\"6\",\"1\":\"2\",\"2\":\"5\",\"3\":\"5\",\"4\":\"4\",\"5\":\"5\",\"6\":\"6\",\"7\":\"3\",\"8\":\"7\",\"9\":\"6\"}\n",
    "t=int(input())\n",
    "for i in range(t):\n",
    "    n=int(input())\n",
    "    if str(n) in d.keys():\n",
    "        if d[str(n)] == \"7\":\n",
    "            print(\"711\")\n",
    "        elif d[str(n)] == \"6\":\n",
    "            print(\"111\")\n",
    "        elif d[str(n)] == \"5\":\n",
    "            print(\"71\")\n",
    "        elif d[str(n)] == \"4\":\n",
    "            print(\"11\")\n",
    "        elif d[str(n)] == \"3\":\n",
    "            print(\"7\")\n",
    "        elif d[str(n)] == \"2\":\n",
    "            print(\"1\")"
   ]
  },
  {
   "cell_type": "code",
   "execution_count": 7,
   "metadata": {},
   "outputs": [
    {
     "name": "stdout",
     "output_type": "stream",
     "text": [
      "3\n",
      "97\n",
      "7111\n",
      "98\n",
      "711111\n",
      "99\n",
      "111111\n"
     ]
    }
   ],
   "source": [
    "#SEVEN SEGMENT DISPLAY\n",
    "d={\"0\":\"6\",\"1\":\"2\",\"2\":\"5\",\"3\":\"5\",\"4\":\"4\",\"5\":\"5\",\"6\":\"6\",\"7\":\"3\",\"8\":\"7\",\"9\":\"6\"}\n",
    "t=int(input())\n",
    "for i in range(t):\n",
    "    n=input()\n",
    "    p=len(n)\n",
    "    if p<2:\n",
    "        if n in d.keys():\n",
    "            if d[n] == \"7\":\n",
    "                print(\"711\")\n",
    "            elif d[n] == \"6\":\n",
    "                print(\"111\")\n",
    "            elif d[n] == \"5\":\n",
    "                print(\"71\")\n",
    "            elif d[n] == \"4\":\n",
    "                print(\"11\")\n",
    "            elif d[n] == \"3\":\n",
    "                print(\"7\")\n",
    "            elif d[n] == \"2\":\n",
    "                print(\"1\")\n",
    "    else:\n",
    "        sum = 0\n",
    "        for j in range(p):\n",
    "            sum=sum+int(d[n[j]])\n",
    "        if sum % 2 == 0:\n",
    "            print((sum//2)*\"1\")\n",
    "        else:\n",
    "            print(\"7\"+((sum//2)-1)*\"1\")"
   ]
  },
  {
   "cell_type": "code",
   "execution_count": 5,
   "metadata": {},
   "outputs": [
    {
     "name": "stdout",
     "output_type": "stream",
     "text": [
      "1111\n"
     ]
    }
   ],
   "source": [
    "print(4*\"1\")"
   ]
  },
  {
   "cell_type": "code",
   "execution_count": null,
   "metadata": {},
   "outputs": [],
   "source": []
  }
 ],
 "metadata": {
  "kernelspec": {
   "display_name": "Python 3",
   "language": "python",
   "name": "python3"
  }
 },
 "nbformat": 4,
 "nbformat_minor": 2
}
