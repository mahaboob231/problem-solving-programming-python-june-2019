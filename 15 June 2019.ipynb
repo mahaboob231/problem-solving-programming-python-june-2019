{
 "cells": [
  {
   "cell_type": "markdown",
   "metadata": {},
   "source": [
    "### 14 June 2019 practice set problems"
   ]
  },
  {
   "cell_type": "code",
   "execution_count": 3,
   "metadata": {},
   "outputs": [
    {
     "data": {
      "text/plain": [
       "8"
      ]
     },
     "execution_count": 3,
     "metadata": {},
     "output_type": "execute_result"
    }
   ],
   "source": [
    "def task(a,b,c):\n",
    "    li=[]\n",
    "    li2=[]\n",
    "    for i in range(1,c+1):\n",
    "        if i%a == b:\n",
    "            li.append(i)\n",
    "    for j in range(0,len(li)):\n",
    "        if li[j]<=c:\n",
    "            li2.append(li[j])\n",
    "    #print(li2)\n",
    "    if len(li2)==0:\n",
    "        return -1\n",
    "    return max(li2)\n",
    "task(1,2,9)\n",
    "\n",
    "\n",
    "\n",
    "def cal(a,b,c):\n",
    "    for i in range(c,a-1,-1):\n",
    "        if i%a==b:\n",
    "            return i\n",
    "    return -1\n",
    "cal(3,2,9)"
   ]
  },
  {
   "cell_type": "code",
   "execution_count": 13,
   "metadata": {},
   "outputs": [
    {
     "name": "stdout",
     "output_type": "stream",
     "text": [
      "abcdE\n",
      "ABCDe"
     ]
    }
   ],
   "source": [
    "def toggleString(s):\n",
    "    p=[]\n",
    "    for i in range(0,len(s)):\n",
    "        if s[i].islower():\n",
    "            print(s[i].upper(),end=\"\")\n",
    "            #p.append(s[i].upper())\n",
    "        else:\n",
    "            print(s[i].lower(),end=\"\")\n",
    "            #(s[i].lower())\n",
    "toggleString(input())\n",
    "            "
   ]
  },
  {
   "cell_type": "code",
   "execution_count": 14,
   "metadata": {},
   "outputs": [
    {
     "data": {
      "text/plain": [
       "'cdsspA'"
      ]
     },
     "execution_count": 14,
     "metadata": {},
     "output_type": "execute_result"
    }
   ],
   "source": [
    "p=\"Apssdc\"\n",
    "p=p[::-1]\n",
    "p"
   ]
  },
  {
   "cell_type": "code",
   "execution_count": 17,
   "metadata": {},
   "outputs": [
    {
     "name": "stdout",
     "output_type": "stream",
     "text": [
      "wer\n",
      "NO\n"
     ]
    }
   ],
   "source": [
    "def Palindrome(s):\n",
    "    if s[::-1] == s:\n",
    "        print(\"YES\")\n",
    "    else:\n",
    "        print(\"NO\")\n",
    "Palindrome(input().lower())\n"
   ]
  },
  {
   "cell_type": "code",
   "execution_count": 22,
   "metadata": {},
   "outputs": [
    {
     "data": {
      "text/plain": [
       "13"
      ]
     },
     "execution_count": 22,
     "metadata": {},
     "output_type": "execute_result"
    }
   ],
   "source": [
    "ord('m')-96"
   ]
  },
  {
   "cell_type": "code",
   "execution_count": null,
   "metadata": {},
   "outputs": [
    {
     "name": "stdout",
     "output_type": "stream",
     "text": [
      "10\n",
      "2 54 9 48\n",
      "6 54 8 30 15 38\n",
      "7 8 11 21 23 53\n",
      "12 32 "
     ]
    }
   ],
   "source": [
    "def workingHours(w):\n",
    "    for i in range(1,w+1):\n",
    "        SH,SM,EH,EM = input().split()\n",
    "        if (abs(60-int(SM)+int(EM)))>=60:\n",
    "            print((int(EH)-int(SH)-1)+1,end=\" \")\n",
    "            print((60-int(SM)+int(EM))-60,end=\" \")\n",
    "        else:\n",
    "            print(int(EH)-int(SH)-1,end=\" \")\n",
    "            print((60-int(SM)+int(EM)),end=\" \")\n",
    "workingHours(int(input()))"
   ]
  },
  {
   "cell_type": "code",
   "execution_count": 1,
   "metadata": {},
   "outputs": [
    {
     "name": "stdout",
     "output_type": "stream",
     "text": [
      "9\n"
     ]
    }
   ],
   "source": [
    "def primeNumbers(n):\n",
    "    count=0\n",
    "    for i in range(1,n+1):\n",
    "        for j in range(1,i+1):\n",
    "            if i%j ==0:\n",
    "                count+=1\n",
    "        if count == 2:\n",
    "            print(i,end=\" \")\n",
    "primeNumbers(int(input()))\n",
    "            "
   ]
  },
  {
   "cell_type": "code",
   "execution_count": null,
   "metadata": {},
   "outputs": [
    {
     "name": "stdout",
     "output_type": "stream",
     "text": [
      "5 3\n",
      "1 2 3 4 5\n",
      "2 4\n",
      "3\n"
     ]
    }
   ],
   "source": [
    "#Playing with numbers\n",
    "n,k=[int(x) for x in input().split()]\n",
    "l=[int(x) for x in input().split()]\n",
    "sa=[]\n",
    "s=0;\n",
    "for i in range(len(l)):\n",
    "    s=s+l[i];\n",
    "    sa.append(s);\n",
    "#print(sa)\n",
    "for j in range(k):\n",
    "    x,y=[int(x) for x in input().split()];\n",
    "    count=(y-x)+1\n",
    "    #print(count)\n",
    "    if(x==1):\n",
    "        print((sa[y-1])//count)\n",
    "    else:\n",
    "        #print(sa[y-1]-sa[x-1])\n",
    "        print((sa[y-1]-sa[x-2])//count);\n",
    "# Write your code here"
   ]
  },
  {
   "cell_type": "code",
   "execution_count": 2,
   "metadata": {},
   "outputs": [
    {
     "name": "stdout",
     "output_type": "stream",
     "text": [
      "aba\n",
      "4\n"
     ]
    }
   ],
   "source": [
    "#Char Sum\n",
    "def charSum(s):\n",
    "    sum = 0\n",
    "    for i in s:\n",
    "        sum+=ord(i)-96\n",
    "    print(sum)\n",
    "charSum(input())"
   ]
  },
  {
   "cell_type": "code",
   "execution_count": 3,
   "metadata": {},
   "outputs": [
    {
     "name": "stdout",
     "output_type": "stream",
     "text": [
      "2\n",
      "basha shaba\n",
      "YES\n",
      "hello world\n",
      "NO\n"
     ]
    }
   ],
   "source": [
    "#Two Strings\n",
    "def stringPermutations(s1,s2):\n",
    "    if s1 == s2:\n",
    "        print(\"YES\")\n",
    "    else:\n",
    "        print(\"NO\")\n",
    "for i in range(1,(int(input()))+1):\n",
    "    s1,s2=input().split()\n",
    "    stringPermutations(sorted(s1),sorted(s2))"
   ]
  },
  {
   "cell_type": "code",
   "execution_count": 6,
   "metadata": {},
   "outputs": [
    {
     "name": "stdout",
     "output_type": "stream",
     "text": [
      "1 10 1\n",
      "10\n"
     ]
    }
   ],
   "source": [
    "#Count Divisors\n",
    "def countDivisors(i,j,k):\n",
    "    count=0\n",
    "    for p in range(i,j+1):\n",
    "        if p%k==0:\n",
    "            count=count+1\n",
    "    print(count)\n",
    "i,j,k=input().split()\n",
    "countDivisors(int(i),int(j),int(k)) \n"
   ]
  },
  {
   "cell_type": "code",
   "execution_count": 7,
   "metadata": {},
   "outputs": [
    {
     "name": "stdout",
     "output_type": "stream",
     "text": [
      "5\n",
      "120\n"
     ]
    }
   ],
   "source": [
    "# Factorial\n",
    "def factorial(n):\n",
    "    f=1\n",
    "    for i in range(1,n+1):\n",
    "        f=f*i\n",
    "    print(f)\n",
    "factorial(int(input()))\n"
   ]
  },
  {
   "cell_type": "code",
   "execution_count": null,
   "metadata": {},
   "outputs": [],
   "source": []
  }
 ],
 "metadata": {
  "kernelspec": {
   "display_name": "Python 3",
   "language": "python",
   "name": "python3"
  },
  "language_info": {
   "codemirror_mode": {
    "name": "ipython",
    "version": 3
   },
   "file_extension": ".py",
   "mimetype": "text/x-python",
   "name": "python",
   "nbconvert_exporter": "python",
   "pygments_lexer": "ipython3",
   "version": "3.7.3"
  }
 },
 "nbformat": 4,
 "nbformat_minor": 2
}
