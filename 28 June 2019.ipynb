{
 "cells": [
  {
   "cell_type": "markdown",
   "metadata": {},
   "source": [
    "### 28 June 2019\n",
    "### Day Objectives\n",
    "- Maps\n",
    "- Lambda\n",
    "- Filter\n",
    "- Use cases - File/Data-Encryption\n"
   ]
  },
  {
   "cell_type": "markdown",
   "metadata": {},
   "source": [
    "### Map\n",
    "\n",
    "Mapping - Entity with Function\n",
    "\n",
    "f : x^2\n",
    "\n",
    "x : [1,10]\n",
    "\n",
    "f(x)\n",
    "\n",
    "f(1) --> 13\n",
    "f(2) --> 19\n",
    "\n",
    "...\n",
    "...\n",
    "\n",
    "y=f(x)\n",
    "\n",
    "  f:x^2\n",
    "x     y\n",
    "1     1\n",
    "2     4\n",
    "3     9\n",
    "4     16\n",
    "5     25\n",
    "6     36\n",
    "7     49\n",
    "8     64\n",
    "9     81\n",
    "10    100\n",
    "\n",
    "map(function, Iterable)\n"
   ]
  },
  {
   "cell_type": "code",
   "execution_count": 11,
   "metadata": {},
   "outputs": [
    {
     "data": {
      "text/plain": [
       "8"
      ]
     },
     "execution_count": 11,
     "metadata": {},
     "output_type": "execute_result"
    }
   ],
   "source": [
    "def powerN(a,n):\n",
    "    #return a**n ---> first method to calculate power\n",
    "    r=1\n",
    "    for i in range(0,n):\n",
    "        r*=a\n",
    "    return r\n",
    "powerN(2,3)\n",
    "def recursivePowerN(a,n):\n",
    "    if n==0:\n",
    "        return 1\n",
    "    else:\n",
    "        return a*recursivePowerN(a,n-1)\n",
    "recursivePowerN(2,4)"
   ]
  },
  {
   "cell_type": "code",
   "execution_count": 39,
   "metadata": {},
   "outputs": [
    {
     "data": {
      "text/plain": [
       "[1, 8, 27, 64, 125, 216]"
      ]
     },
     "execution_count": 39,
     "metadata": {},
     "output_type": "execute_result"
    }
   ],
   "source": [
    "def cube(n):\n",
    "    return n**3\n",
    "li=[1,2,3,4,5,6]\n",
    "#set(map(cube, li))\n",
    "cubelist=[cube(i) for i in li]\n",
    "cubelist"
   ]
  },
  {
   "cell_type": "code",
   "execution_count": 20,
   "metadata": {},
   "outputs": [
    {
     "data": {
      "text/plain": [
       "[1, 2, 3, 4, 5]"
      ]
     },
     "execution_count": 20,
     "metadata": {},
     "output_type": "execute_result"
    }
   ],
   "source": [
    "a = \" 1 2 3 4 5\"\n",
    "list(map(int, a.split()))"
   ]
  },
  {
   "cell_type": "markdown",
   "metadata": {},
   "source": [
    "### Filter\n",
    "\n",
    "\n",
    "- Used to check boolean values\n"
   ]
  },
  {
   "cell_type": "code",
   "execution_count": 26,
   "metadata": {},
   "outputs": [
    {
     "data": {
      "text/plain": [
       "[1, 2, 3]"
      ]
     },
     "execution_count": 26,
     "metadata": {},
     "output_type": "execute_result"
    }
   ],
   "source": [
    "li = [1,2,\"a\",\"b\",\"c\",3]\n",
    "def isDigit(c):\n",
    "    c=str(c)\n",
    "    if c.isdigit():\n",
    "        return True\n",
    "    return False\n",
    "list(filter(isDigit,li))"
   ]
  },
  {
   "cell_type": "code",
   "execution_count": 36,
   "metadata": {},
   "outputs": [
    {
     "data": {
      "text/plain": [
       "[503, 509, 521, 523, 541, 547, 557, 563, 569, 571, 577, 587, 593, 599]"
      ]
     },
     "execution_count": 36,
     "metadata": {},
     "output_type": "execute_result"
    }
   ],
   "source": [
    "# Identify all Primes in a range \n",
    "\n",
    "def checkPrime(n):\n",
    "    count=0\n",
    "    for i in range(1,n+1):\n",
    "        if n%i==0:\n",
    "            count=count+1\n",
    "    if count==2:\n",
    "        return True\n",
    "    return False\n",
    "#checkPrime(3)\n",
    "set(filter(checkPrime,range(500,601)))                 # Using filter to display prime numbers between 500 and 600\n",
    "primelist=[i for i in range(500,601) if checkPrime(i)] # Using listcomprehension to display prime numbers beween 500 and 600\n",
    "primelist\n",
    "\n",
    "# Map fails because it doe's not apply for checking conditions\n"
   ]
  },
  {
   "cell_type": "markdown",
   "metadata": {},
   "source": [
    "### Lambda\n",
    "\n",
    "- keyword\n",
    "- Anonymous Functions \n",
    "- Can be embedded into List Comprehension,Maps,Filters"
   ]
  },
  {
   "cell_type": "code",
   "execution_count": 47,
   "metadata": {},
   "outputs": [
    {
     "data": {
      "text/plain": [
       "[2, 4, 6]"
      ]
     },
     "execution_count": 47,
     "metadata": {},
     "output_type": "execute_result"
    }
   ],
   "source": [
    "a=lambda x : x**3\n",
    "list(map(lambda x:x**3, [1,2,3,4,5,6]))\n",
    "list(filter(lambda x:x%2==0,[1,2,3,4,5,6]))"
   ]
  },
  {
   "cell_type": "code",
   "execution_count": 60,
   "metadata": {},
   "outputs": [
    {
     "data": {
      "text/plain": [
       "[9.5]"
      ]
     },
     "execution_count": 60,
     "metadata": {},
     "output_type": "execute_result"
    }
   ],
   "source": [
    "from random import randint\n",
    "internalmark1 = [randint(0,25) for i in range(10)]\n",
    "internalmark2 = [randint(0,25) for i in range(10)]\n",
    "averageInternal = list(map(lambda x,y:(x+y)/2, internalmark1,internalmark2))\n",
    "averageInternal\n",
    "failedmarks = list(filter(lambda x:x<11,list(map(lambda x,y:x+y/2, internalmark1,internalmark2))))\n",
    "failedmarks"
   ]
  },
  {
   "cell_type": "markdown",
   "metadata": {},
   "source": [
    "### Applying Functionsl Programming to the Marks Analaysis Application"
   ]
  },
  {
   "cell_type": "code",
   "execution_count": 70,
   "metadata": {},
   "outputs": [],
   "source": [
    "# Generate marks data\n",
    "from random import randint\n",
    "def generateMarks(n,lb,ub):\n",
    "    filename = \"DF/marks.txt\"\n",
    "    with open(filename,\"w\") as f:\n",
    "        for i in range(n):\n",
    "            marks = randint(lb,ub)\n",
    "            f.write(str(marks)+\"\\n\")\n",
    "    return\n",
    "\n",
    "generateMarks(300,0,100)    \n",
    "\n"
   ]
  },
  {
   "cell_type": "code",
   "execution_count": 84,
   "metadata": {},
   "outputs": [
    {
     "name": "stdout",
     "output_type": "stream",
     "text": [
      "51\n"
     ]
    }
   ],
   "source": [
    "# Marks Analysis\n",
    "# Class Averge, % Passed,% Failed, % Distinction,Frequency of Highest and Lowestdef\n",
    "filepath =\"DF/marks.txt\"\n",
    "def readMarkslist(filepath):\n",
    "    with open(filepath,\"r\") as f:\n",
    "        filedata = f.read().split()\n",
    "        #print(filedata)\n",
    "        return list(map(int,filedata))\n",
    "    \n",
    "def classAverage(filepath):\n",
    "    markslist = readMarkslist(\"DF/marks.txt\")\n",
    "    print(sum(markslist)//len(markslist))\n",
    "        \n",
    "classAverage(filepath)"
   ]
  },
  {
   "cell_type": "code",
   "execution_count": 91,
   "metadata": {},
   "outputs": [
    {
     "data": {
      "text/plain": [
       "36.333333333333336"
      ]
     },
     "execution_count": 91,
     "metadata": {},
     "output_type": "execute_result"
    }
   ],
   "source": [
    "def percentageFailed(filepath):\n",
    "    markslist = readMarkslist(filepath)\n",
    "    failedcount = len(list(filter(lambda mark:mark<40, markslist)))\n",
    "    return ((failedcount/len(markslist))*100)\n",
    "percentageFailed(filepath)\n",
    "    \n"
   ]
  },
  {
   "cell_type": "code",
   "execution_count": 92,
   "metadata": {},
   "outputs": [
    {
     "data": {
      "text/plain": [
       "63.666666666666664"
      ]
     },
     "execution_count": 92,
     "metadata": {},
     "output_type": "execute_result"
    }
   ],
   "source": [
    "def percentagePassed(filepath):\n",
    "    return 100-percentageFailed(filepath)\n",
    "percentagePassed(filepath)"
   ]
  },
  {
   "cell_type": "code",
   "execution_count": 100,
   "metadata": {},
   "outputs": [
    {
     "data": {
      "text/plain": [
       "30.0"
      ]
     },
     "execution_count": 100,
     "metadata": {},
     "output_type": "execute_result"
    }
   ],
   "source": [
    "def percentageDistinction(filepath):\n",
    "    markslist = readMarkslist(filepath)\n",
    "    distinctioncount=len(list(filter(lambda marks:marks>70, markslist)))\n",
    "    return ((distinctioncount/len(markslist))*100)\n",
    "\n",
    "percentageDistinction(filepath)       "
   ]
  },
  {
   "cell_type": "code",
   "execution_count": 103,
   "metadata": {},
   "outputs": [
    {
     "data": {
      "text/plain": [
       "[1, 100]"
      ]
     },
     "execution_count": 103,
     "metadata": {},
     "output_type": "execute_result"
    }
   ],
   "source": [
    "def highestMarkFrequency(filepath):\n",
    "    markslist = readMarkslist(filepath)\n",
    "    return [markslist.count(max(markslist)),max(markslist)]\n",
    "\n",
    "highestMarkFrequency(filepath)   "
   ]
  },
  {
   "cell_type": "code",
   "execution_count": 105,
   "metadata": {},
   "outputs": [
    {
     "data": {
      "text/plain": [
       "[2, 0]"
      ]
     },
     "execution_count": 105,
     "metadata": {},
     "output_type": "execute_result"
    }
   ],
   "source": [
    "def lowestMarkFrequency(filepath):\n",
    "    markslist = readMarkslist(filepath)\n",
    "    return [markslist.count(min(markslist)),min(markslist)]\n",
    "\n",
    "lowestMarkFrequency(filepath)   "
   ]
  },
  {
   "cell_type": "code",
   "execution_count": null,
   "metadata": {},
   "outputs": [],
   "source": []
  },
  {
   "cell_type": "markdown",
   "metadata": {},
   "source": [
    "### Data Encryption\n",
    "Key - Mapping of charaters with replacement characters\n",
    "\n",
    "0 -> 4\n",
    "1 -> 5\n",
    "2 -> 6\n",
    "3 -> 7\n",
    "4 -> 8\n",
    "5 -> 9\n",
    "6 -> 0\n",
    "7 -> 1\n",
    "8 -> 2\n",
    "9 -> 3"
   ]
  },
  {
   "cell_type": "code",
   "execution_count": 107,
   "metadata": {},
   "outputs": [],
   "source": [
    "# Function to generate key for encryption\n",
    "keypath = \"DF/key.txt\"\n",
    "def generateKey(keypath):\n",
    "    with open(keypath,\"w\") as f:\n",
    "        for i in range(0,10):\n",
    "            if i<6:\n",
    "                f.write(str(i)+\" \"+str(i+4)+\"\\n\")\n",
    "            else:\n",
    "                f.write(str(i)+\" \"+str(i-6)+\"\\n\")\n",
    "    return\n",
    "\n",
    "generateKey(keypath)        \n",
    "        "
   ]
  },
  {
   "cell_type": "code",
   "execution_count": null,
   "metadata": {},
   "outputs": [],
   "source": [
    "# Function to encrypt the data file\n",
    "def encryptMarksData(dataf,keypath):\n",
    "    \n"
   ]
  }
 ],
 "metadata": {
  "kernelspec": {
   "display_name": "Python 3",
   "language": "python",
   "name": "python3"
  },
  "language_info": {
   "codemirror_mode": {
    "name": "ipython",
    "version": 3
   },
   "file_extension": ".py",
   "mimetype": "text/x-python",
   "name": "python",
   "nbconvert_exporter": "python",
   "pygments_lexer": "ipython3",
   "version": "3.7.3"
  }
 },
 "nbformat": 4,
 "nbformat_minor": 2
}
