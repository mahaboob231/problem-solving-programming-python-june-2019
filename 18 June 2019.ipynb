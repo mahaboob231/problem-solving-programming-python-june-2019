{
 "cells": [
  {
   "cell_type": "code",
   "execution_count": 4,
   "metadata": {},
   "outputs": [
    {
     "name": "stdout",
     "output_type": "stream",
     "text": [
      "1 2 3 4 5 6 7\n"
     ]
    },
    {
     "data": {
      "text/plain": [
       "10"
      ]
     },
     "execution_count": 4,
     "metadata": {},
     "output_type": "execute_result"
    }
   ],
   "source": [
    "d=list(map(int,input().split()[:4]))\n",
    "sum(d)\n"
   ]
  },
  {
   "cell_type": "code",
   "execution_count": 15,
   "metadata": {},
   "outputs": [
    {
     "name": "stdout",
     "output_type": "stream",
     "text": [
      "1 2 3 4 5\n",
      "2 4\n",
      "3 9 3\n"
     ]
    }
   ],
   "source": [
    "l=input().split()\n",
    "p=input().split()\n",
    "tot = 0\n",
    "sum=0\n",
    "for i in range(l.index(p[0]),(l.index(p[1]))+1):\n",
    "    tot+=1\n",
    "    sum+=int(l[i])\n",
    "print(sum//tot)\n",
    "    "
   ]
  },
  {
   "cell_type": "markdown",
   "metadata": {},
   "source": [
    "### Test questions\n"
   ]
  },
  {
   "cell_type": "code",
   "execution_count": 18,
   "metadata": {},
   "outputs": [
    {
     "name": "stdout",
     "output_type": "stream",
     "text": [
      "1\n",
      "5\n",
      "3\n"
     ]
    }
   ],
   "source": [
    "# Find the maximum reminder(not repeated) if repeated find minimum reminder\n",
    "t=int(input())\n",
    "for i in range(t):\n",
    "    k=int(input())\n",
    "    l=[]\n",
    "    for i in range(1,k):\n",
    "            l.append(k%i)\n",
    "    if(l.count(max(l)))>1:\n",
    "        print((l.index(min(l)))+1)\n",
    "    else:\n",
    "        print((l.index(max(l)))+1)\n",
    "        "
   ]
  },
  {
   "cell_type": "code",
   "execution_count": 17,
   "metadata": {},
   "outputs": [
    {
     "name": "stdout",
     "output_type": "stream",
     "text": [
      "1\n",
      "1\n",
      "0\n"
     ]
    }
   ],
   "source": [
    "#numcount and alphabet count in a string\n",
    "s=input()\n",
    "numcount=0\n",
    "alphabetcount=0\n",
    "for i in s:\n",
    "    if i.isdigit():\n",
    "        numcount+=1\n",
    "    if i.isalpha():\n",
    "        alphabetcount+=1\n",
    "print(numcount)\n",
    "print(alphabetcount)"
   ]
  },
  {
   "cell_type": "code",
   "execution_count": 1,
   "metadata": {},
   "outputs": [
    {
     "name": "stdout",
     "output_type": "stream",
     "text": [
      "5\n",
      "1\n",
      "NO\n",
      "2\n",
      "NO\n",
      "4\n",
      "NO\n",
      "6\n",
      "YES\n",
      "8\n",
      "NO\n"
     ]
    }
   ],
   "source": [
    "##### Perfect number\n",
    "t=int(input())\n",
    "for j in range(t):\n",
    "    p=int(input())\n",
    "    sum=0\n",
    "    for i in range(1,p):\n",
    "        if p%i==0:\n",
    "            sum=sum+i\n",
    "    if sum == p:\n",
    "        print(\"YES\")\n",
    "    else:\n",
    "        print(\"NO\")\n",
    "        "
   ]
  },
  {
   "cell_type": "code",
   "execution_count": 15,
   "metadata": {},
   "outputs": [
    {
     "name": "stdout",
     "output_type": "stream",
     "text": [
      "2\n",
      "1\n",
      "30\n",
      "YES\n"
     ]
    }
   ],
   "source": [
    "'''A special number is defined as a number which has at least P distinct prime factors.\n",
    "Design a flowchart to determine whether a number N is a special number.\n",
    "\n",
    "Input format\n",
    "\n",
    "First line: P\n",
    "Second line: T (number of test cases)\n",
    "Next T lines: N\n",
    "Output format\n",
    "\n",
    "For each test case, print YES or NO depending on the result.'''\n",
    "P=int(input())\n",
    "T=int(input())\n",
    "for i in range(T):\n",
    "    N=int(input())\n",
    "    count2=0\n",
    "    for j in range(1,N+1):\n",
    "        if(N%j==0):\n",
    "            count=0\n",
    "            for k in range(1,j+1):\n",
    "                if j%k==0:\n",
    "                    count=count+1\n",
    "            if count==2:\n",
    "                count2=count2+1\n",
    "    if count2>=P:\n",
    "        print(\"YES\")\n",
    "    else:\n",
    "        print(\"NO\")\n",
    "                "
   ]
  },
  {
   "cell_type": "markdown",
   "metadata": {},
   "source": [
    "## Tuples\n",
    "t = ()\n",
    "- difference between lists and tuples\n",
    "- lists are mutable - can be changed or modified\n",
    "    - list are used to access data,modify add and delete\n",
    "- tuples are immutable - cannot be changed once initialized\n",
    "    - tuples are used to access data\n",
    "    - all slicing operation work\n",
    "    "
   ]
  },
  {
   "cell_type": "code",
   "execution_count": 26,
   "metadata": {},
   "outputs": [
    {
     "data": {
      "text/plain": [
       "tuple"
      ]
     },
     "execution_count": 26,
     "metadata": {},
     "output_type": "execute_result"
    }
   ],
   "source": [
    "\n",
    "t = (1,2,3,4,5)\n",
    "\n",
    "t[3] # Accessing fourth element\n",
    "\n",
    "t[len(t)//2:] #Access all elements from middle to last\n",
    "\n",
    "type(t)\n",
    "\n",
    "    \n",
    "    "
   ]
  },
  {
   "cell_type": "markdown",
   "metadata": {},
   "source": [
    "## Dictionaries\n",
    "\n",
    "- It  works on the concept of a set\n",
    "- keys and values\n",
    "- unique data (especially the keys)\n",
    "- key is the unique identifier of a value\n",
    "- value can be accessed with the help of key"
   ]
  },
  {
   "cell_type": "code",
   "execution_count": 43,
   "metadata": {},
   "outputs": [
    {
     "data": {
      "text/plain": [
       "True"
      ]
     },
     "execution_count": 43,
     "metadata": {},
     "output_type": "execute_result"
    }
   ],
   "source": [
    "d = {\"a1\":\"value1\",\"a2\":\"value2\"}\n",
    "d[\"a1\"] # Accessing the value with key\n",
    "d.values() #return list of all values\n",
    "d.keys() #return list of all keys\n",
    "d.items()# returns list of tuples of keys and values\n",
    "d[\"a3\"]=\"value3\" # adding an element to the dictionary\n",
    "d[\"a3\"]=\"value4\" # updating an element\n",
    "d.pop(\"a3\") # Removing an element\n",
    "\"value1\" in d# returns false\n",
    "\"a2\" in d #\n"
   ]
  },
  {
   "cell_type": "markdown",
   "metadata": {},
   "source": [
    "### contacts applications\n",
    "- Add contact\n",
    "- Search for contact\n",
    "- List all contact\n",
    "- Modify contact\n",
    "- Remove contact\n",
    "- import contacts\n"
   ]
  },
  {
   "cell_type": "code",
   "execution_count": 59,
   "metadata": {},
   "outputs": [
    {
     "name": "stdout",
     "output_type": "stream",
     "text": [
      "Contact is added : basha\n"
     ]
    },
    {
     "data": {
      "text/plain": [
       "{'basha': '9676173758'}"
      ]
     },
     "execution_count": 59,
     "metadata": {},
     "output_type": "execute_result"
    }
   ],
   "source": [
    "contacts = {}\n",
    "\n",
    "def addContact(name, phoneno):\n",
    "    #verify the contact doesnot already in contacts\n",
    "    if name not in contacts:\n",
    "        contacts[name] = phoneno\n",
    "        print(\"Contact is added :\",name)\n",
    "    else:\n",
    "        print(\"Contact name already exist\")\n",
    "addContact(\"basha\",\"9676173758\")\n",
    "contacts"
   ]
  },
  {
   "cell_type": "code",
   "execution_count": 58,
   "metadata": {},
   "outputs": [
    {
     "name": "stdout",
     "output_type": "stream",
     "text": [
      "basha contact does not exist\n"
     ]
    }
   ],
   "source": [
    "def searchContact(name):\n",
    "    if name in contacts:\n",
    "        print(name,\":\",contacts[name])\n",
    "    else:\n",
    "        print(name+\" contact does not exist\")\n",
    "searchContact(\"basha\")"
   ]
  },
  {
   "cell_type": "code",
   "execution_count": 73,
   "metadata": {},
   "outputs": [
    {
     "name": "stdout",
     "output_type": "stream",
     "text": [
      "dict_items([('basha', '9676173758'), ('a1', '12121212'), ('a2', '132424352'), ('mahaboob', '9676173757')])\n"
     ]
    },
    {
     "data": {
      "text/plain": [
       "{'basha': '9676173758',\n",
       " 'a1': '12121212',\n",
       " 'a2': '132424352',\n",
       " 'mahaboob': '9676173757'}"
      ]
     },
     "execution_count": 73,
     "metadata": {},
     "output_type": "execute_result"
    }
   ],
   "source": [
    "def contactsList(name):\n",
    "    if name in contacts:\n",
    "        print(contacts.items())\n",
    "    else:\n",
    "        print(\"contact not found\")\n",
    "contactsList(\"mahaboob\")\n",
    "contacts\n",
    "    "
   ]
  },
  {
   "cell_type": "code",
   "execution_count": 76,
   "metadata": {},
   "outputs": [
    {
     "name": "stdout",
     "output_type": "stream",
     "text": [
      "mahaboob  phone no changed\n"
     ]
    },
    {
     "data": {
      "text/plain": [
       "{'a1': '12121212', 'a2': '132424352', 'mahaboob': '123456789'}"
      ]
     },
     "execution_count": 76,
     "metadata": {},
     "output_type": "execute_result"
    }
   ],
   "source": [
    "def modifyContact(name,phoneno):\n",
    "    if name in contacts:\n",
    "        contacts[name]=phoneno\n",
    "        print(name,\" phone no changed\")\n",
    "    else:\n",
    "        print(\"contact not found\")\n",
    "    \n",
    "modifyContact(\"mahaboob\",\"123456789\") \n",
    "contacts"
   ]
  },
  {
   "cell_type": "code",
   "execution_count": 75,
   "metadata": {},
   "outputs": [
    {
     "name": "stdout",
     "output_type": "stream",
     "text": [
      "{'a1': '12121212', 'a2': '132424352', 'mahaboob': '9676173757'}\n"
     ]
    }
   ],
   "source": [
    "def removeContact(name):\n",
    "    del contacts[name]\n",
    "    print(contacts)\n",
    "removeContact(\"basha\")\n",
    "    "
   ]
  },
  {
   "cell_type": "code",
   "execution_count": 71,
   "metadata": {},
   "outputs": [
    {
     "name": "stdout",
     "output_type": "stream",
     "text": [
      "4 contacts added successfully\n"
     ]
    },
    {
     "data": {
      "text/plain": [
       "{'basha': '9676173758',\n",
       " 'a1': '12121212',\n",
       " 'a2': '132424352',\n",
       " 'mahaboob': '9676173757'}"
      ]
     },
     "execution_count": 71,
     "metadata": {},
     "output_type": "execute_result"
    }
   ],
   "source": [
    "# newContacts is given as adictionary\n",
    "# merge new contacts with existing data\n",
    "def importContact(newContacts):\n",
    "    contacts.update(newContacts)\n",
    "    print(len(newContacts.keys()),\"contacts added successfully\")\n",
    "    return\n",
    "newContacts={\"a1\":\"12121212\",\"a2\":\"132424352\",\"mahaboob\":\"9676173757\",\"basha\":\"9676173758\"}\n",
    "importContact(newContacts)\n",
    "contacts"
   ]
  },
  {
   "cell_type": "code",
   "execution_count": null,
   "metadata": {},
   "outputs": [],
   "source": []
  },
  {
   "cell_type": "markdown",
   "metadata": {},
   "source": [
    "### Packages and Modules\n",
    "- Package\n",
    "    - Collection of Modules(Python file .py) and sub packages\n",
    "- Module\n",
    "    - It is a single python file containing functions\n",
    "Package -> Subpackages -> Modules -> Functions"
   ]
  },
  {
   "cell_type": "code",
   "execution_count": 4,
   "metadata": {},
   "outputs": [
    {
     "data": {
      "text/plain": [
       "0.49999999999999994"
      ]
     },
     "execution_count": 4,
     "metadata": {},
     "output_type": "execute_result"
    }
   ],
   "source": [
    "from math import *\n",
    "floor(123.456)\n",
    "pi\n",
    "sin(30*pi/180)"
   ]
  },
  {
   "cell_type": "code",
   "execution_count": 12,
   "metadata": {},
   "outputs": [
    {
     "name": "stdout",
     "output_type": "stream",
     "text": [
      "10\n",
      "0\n",
      "100\n",
      "44 58 95 60 27 97 15 75 23 69 "
     ]
    }
   ],
   "source": [
    "# define a function to generate N random numbers in a given range\n",
    "import random\n",
    "\n",
    "def generateRandomnumbers(n,lb,ub):\n",
    "    for i in range(n):\n",
    "        print(random.randint(lb,ub),end=\" \")\n",
    "generateRandomnumbers(int(input()),int(input()),int(input()))"
   ]
  },
  {
   "cell_type": "code",
   "execution_count": 14,
   "metadata": {},
   "outputs": [
    {
     "data": {
      "text/plain": [
       "'C:\\\\Users\\\\IIIT-rgukt\\\\Desktop\\\\problem-solving-programming-python-june-2019'"
      ]
     },
     "execution_count": 14,
     "metadata": {},
     "output_type": "execute_result"
    }
   ],
   "source": [
    "import os\n",
    "os.getcwd()"
   ]
  },
  {
   "cell_type": "code",
   "execution_count": 5,
   "metadata": {},
   "outputs": [
    {
     "data": {
      "text/plain": [
       "True"
      ]
     },
     "execution_count": 5,
     "metadata": {},
     "output_type": "execute_result"
    }
   ],
   "source": [
    "from Packages import numerical as m\n",
    "m.isFactorial(6)\n",
    "m.isPrime(7)"
   ]
  },
  {
   "cell_type": "code",
   "execution_count": null,
   "metadata": {},
   "outputs": [],
   "source": []
  }
 ],
 "metadata": {
  "kernelspec": {
   "display_name": "Python 3",
   "language": "python",
   "name": "python3"
  },
  "language_info": {
   "codemirror_mode": {
    "name": "ipython",
    "version": 3
   },
   "file_extension": ".py",
   "mimetype": "text/x-python",
   "name": "python",
   "nbconvert_exporter": "python",
   "pygments_lexer": "ipython3",
   "version": "3.7.3"
  }
 },
 "nbformat": 4,
 "nbformat_minor": 2
}
