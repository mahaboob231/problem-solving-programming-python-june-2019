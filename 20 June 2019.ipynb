{
 "cells": [
  {
   "cell_type": "markdown",
   "metadata": {},
   "source": [
    "### Day Objectives:\n",
    "\n",
    "### 20 June 2019\n",
    "    - Regular Expressions\n",
    "        - Constructing Regular Expression for various use cases\n",
    "        - Regular Expressions Module and related in Python\n",
    "        - Improving the Contacts application with name and phone number validation as\n",
    "    - File handling\n",
    "        - Text Files\n",
    "        - Upgrading the Contacts Application to store contact information in a text file\n",
    "        \n",
    "### Regular Expressions\n",
    "    - Pattern Matching\n",
    "    - Symbolic Notation of a pattern\n",
    "        - Pattern : Format which repeats\n",
    "        - Pattern(RE) represents the set of all values which matches a pattern\n",
    "    - EXAMPLE : [0-9] --> Any digit\n",
    "    - [a-z] --> Any lower case alphabet\n",
    "    - [2468] --> All single digit multiples of 2\n",
    "    - ^[0-9]{1}$ --> Only single digit numbers\n",
    "    - ^[0-9]{2}$ -->Only two digit numbers"
   ]
  },
  {
   "cell_type": "code",
   "execution_count": null,
   "metadata": {},
   "outputs": [],
   "source": [
    "# Regular Expression to accept starts with 'a' and ends with 's' annd length will be 5"
   ]
  },
  {
   "cell_type": "code",
   "execution_count": 1,
   "metadata": {},
   "outputs": [
    {
     "name": "stdout",
     "output_type": "stream",
     "text": [
      "6304190395\n",
      "Valid Number\n"
     ]
    },
    {
     "data": {
      "text/plain": [
       "True"
      ]
     },
     "execution_count": 1,
     "metadata": {},
     "output_type": "execute_result"
    }
   ],
   "source": [
    "import re\n",
    "def phoneNumberValidator(phonenum):\n",
    "    pattern='^[6-9][0-9]{9}$|^[0][6-9][0-9]{9}$|^[+][9][1][6-9][0-9]{9}$'\n",
    "    if re.match(pattern,str(phonenum)):\n",
    "        print(\"Valid Number\")\n",
    "    else:\n",
    "        print(\"Invalid Number\")\n",
    "    return\n",
    "phoneNumberValidator(input())\n",
    "\n",
    "def emailValidator(email):\n",
    "    pattern='^[0-9a-z][0-9a-z_.]{4,13}[0-9a-z][@][a-z0-9]{3,18}[.][a-z]{2,4}$'\n",
    "    if re.match(pattern,email):\n",
    "        return True\n",
    "    return False\n",
    "emailValidator(\"mabhu4r@gmail.com\")"
   ]
  },
  {
   "cell_type": "code",
   "execution_count": 12,
   "metadata": {},
   "outputs": [
    {
     "name": "stdout",
     "output_type": "stream",
     "text": [
      "{}\n",
      "Valid Number\n",
      "Invalid Phone number\n"
     ]
    }
   ],
   "source": [
    "def addContact(name,phonenum,email):\n",
    "    if name in contacts:\n",
    "        print(name, \"Already Exists.\")\n",
    "    else:\n",
    "        if not phoneNumberValidator(phonenum):\n",
    "            print(\"Invalid Phone number\")\n",
    "            return\n",
    "        if not emailValidator(email):\n",
    "            print(\"Invalid Email address\")\n",
    "            return\n",
    "        newcontact = []\n",
    "        newcontact.append(phonenum)\n",
    "        newcontact.append(email)\n",
    "        contacts[name] = newcontact\n",
    "    return\n",
    "contacts={}\n",
    "print(contacts)\n",
    "addContact(\"mahaboob\",\"9676173757\",\"mabhurr4r@gmail.com\")"
   ]
  },
  {
   "cell_type": "code",
   "execution_count": null,
   "metadata": {},
   "outputs": [],
   "source": []
  },
  {
   "cell_type": "markdown",
   "metadata": {},
   "source": [
    "### File handling in Python\n",
    "    - File - Document containing information residing on the perminant storage Types - Text,PDF, CSV etc\n",
    "    - File I/O - Channelling I/O data to files Default I/O channels - keyboard/Screen\n",
    "    - Change I/O channel to files for Reading and writing\n",
    "    - Read a file - Input Write to a file - Output"
   ]
  },
  {
   "cell_type": "code",
   "execution_count": null,
   "metadata": {},
   "outputs": [],
   "source": []
  },
  {
   "cell_type": "code",
   "execution_count": 4,
   "metadata": {},
   "outputs": [
    {
     "name": "stdout",
     "output_type": "stream",
     "text": [
      "hello all good morning\n",
      "\n",
      "welcome to apssdc\n",
      "\n",
      "hello world\n"
     ]
    }
   ],
   "source": [
    "def readFile(filename):\n",
    "    f=open(filename,'r')\n",
    "    filedata = f.read()\n",
    "    f.close()\n",
    "    return filedata\n",
    "filename = 'DF/data.txt'\n",
    "filedata = readFile(filename)\n",
    " \n",
    "def printFileDataLines(filename):\n",
    "    f=open(filename,'r')\n",
    "    for line in f:\n",
    "        print(line)\n",
    "    return\n",
    "printFileDataLines(filename)"
   ]
  },
  {
   "cell_type": "code",
   "execution_count": 7,
   "metadata": {},
   "outputs": [],
   "source": [
    "def writeIntoFile(filename,filedata):\n",
    "    with open(filename,'w') as f:\n",
    "        f.write(filedata)\n",
    "    return\n",
    "filename = 'DF/data.txt'\n",
    "writeIntoFile(filename,'hi how are you\\n')"
   ]
  },
  {
   "cell_type": "code",
   "execution_count": 9,
   "metadata": {},
   "outputs": [],
   "source": [
    "def appendDataToFile(filename,filedata):\n",
    "    with open(filename,'a') as f:\n",
    "        f.write(filedata)\n",
    "    return\n",
    "filedata=\"\\nLINE2\\nLine3\"\n",
    "appendDataToFile(filename,filedata)\n"
   ]
  },
  {
   "cell_type": "code",
   "execution_count": 16,
   "metadata": {},
   "outputs": [],
   "source": [
    "with open(\"test.txt\",'w') as f:\n",
    "   f.write(\"my first file\\n\")\n",
    "   f.write(\"Maha\\n\")\n",
    "   f.write(\"contains three lines\\n\")"
   ]
  },
  {
   "cell_type": "code",
   "execution_count": null,
   "metadata": {},
   "outputs": [],
   "source": [
    "def add"
   ]
  }
 ],
 "metadata": {
  "kernelspec": {
   "display_name": "Python 3",
   "language": "python",
   "name": "python3"
  },
  "language_info": {
   "codemirror_mode": {
    "name": "ipython",
    "version": 3
   },
   "file_extension": ".py",
   "mimetype": "text/x-python",
   "name": "python",
   "nbconvert_exporter": "python",
   "pygments_lexer": "ipython3",
   "version": "3.7.3"
  }
 },
 "nbformat": 4,
 "nbformat_minor": 2
}
