{
 "cells": [
  {
   "cell_type": "code",
   "execution_count": 4,
   "metadata": {},
   "outputs": [
    {
     "name": "stdout",
     "output_type": "stream",
     "text": [
      "1 2 3 4 5 6 7\n"
     ]
    },
    {
     "data": {
      "text/plain": [
       "10"
      ]
     },
     "execution_count": 4,
     "metadata": {},
     "output_type": "execute_result"
    }
   ],
   "source": [
    "d=list(map(int,input().split()[:4]))\n",
    "sum(d)\n"
   ]
  },
  {
   "cell_type": "code",
   "execution_count": 15,
   "metadata": {},
   "outputs": [
    {
     "name": "stdout",
     "output_type": "stream",
     "text": [
      "1 2 3 4 5\n",
      "2 4\n",
      "3 9 3\n"
     ]
    }
   ],
   "source": [
    "l=input().split()\n",
    "p=input().split()\n",
    "tot = 0\n",
    "sum=0\n",
    "for i in range(l.index(p[0]),(l.index(p[1]))+1):\n",
    "    tot+=1\n",
    "    sum+=int(l[i])\n",
    "print(sum//tot)\n",
    "    "
   ]
  },
  {
   "cell_type": "markdown",
   "metadata": {},
   "source": [
    "### Test questions\n"
   ]
  },
  {
   "cell_type": "code",
   "execution_count": 21,
   "metadata": {},
   "outputs": [
    {
     "name": "stdout",
     "output_type": "stream",
     "text": [
      "3\n",
      "5\n",
      "3\n",
      "6\n",
      "4\n",
      "7\n",
      "4\n"
     ]
    }
   ],
   "source": [
    "# Find the maximum reminder(not repeated) if repeated find minimum reminder\n",
    "t=int(input())\n",
    "for i in range(t):\n",
    "    k=int(input())\n",
    "    l=[]\n",
    "    for i in range(1,k):\n",
    "            l.append(k%i)\n",
    "    if(l.count(max(l)))>1:\n",
    "        print((l.index(min(l)))+1)\n",
    "    else:\n",
    "        print((l.index(max(l)))+1)\n",
    "        "
   ]
  },
  {
   "cell_type": "code",
   "execution_count": 26,
   "metadata": {},
   "outputs": [
    {
     "name": "stdout",
     "output_type": "stream",
     "text": [
      "enx3829cr@xc39x31tc\n",
      "8\n",
      "10\n"
     ]
    }
   ],
   "source": [
    "#numcount and alphabet count in a string\n",
    "s=input()\n",
    "numcount=0\n",
    "alphabetcount=0\n",
    "for i in s:\n",
    "    if i.isdigit():\n",
    "        numcount+=1\n",
    "    if i.isalpha():\n",
    "        alphabetcount+=1\n",
    "print(numcount)\n",
    "print(alphabetcount)"
   ]
  },
  {
   "cell_type": "code",
   "execution_count": 38,
   "metadata": {},
   "outputs": [
    {
     "name": "stdout",
     "output_type": "stream",
     "text": [
      "2\n",
      "3\n",
      "NO\n",
      "6\n",
      "YES\n"
     ]
    }
   ],
   "source": [
    "# Perfect number\n",
    "t=int(input())\n",
    "for j in range(t):\n",
    "    p=int(input())\n",
    "    sum=0\n",
    "    for i in range(1,p):\n",
    "        if p%i==0:\n",
    "            sum=sum+i\n",
    "    if sum == p:\n",
    "        print(\"YES\")\n",
    "    else:\n",
    "        print(\"NO\")\n",
    "        "
   ]
  },
  {
   "cell_type": "code",
   "execution_count": 4,
   "metadata": {},
   "outputs": [
    {
     "name": "stdout",
     "output_type": "stream",
     "text": [
      "2\n",
      "3\n",
      "5\n",
      "NO\n",
      "6\n",
      "YES\n",
      "9\n",
      "NO\n"
     ]
    }
   ],
   "source": [
    "'''A special number is defined as a number which has at least P distinct prime factors.\n",
    "Design a flowchart to determine whether a number N is a special number.\n",
    "\n",
    "Input format\n",
    "\n",
    "First line: P\n",
    "Second line: T (number of test cases)\n",
    "Next T lines: N\n",
    "Output format\n",
    "\n",
    "For each test case, print YES or NO depending on the result.'''\n",
    "P=int(input())\n",
    "T=int(input())\n",
    "for i in range(T):\n",
    "    N=int(input())\n",
    "    count2=0\n",
    "    for j in range(1,N+1):\n",
    "        if(N%j==0):\n",
    "            count=0\n",
    "            for k in range(1,j+1):\n",
    "                if j%k==0:\n",
    "                    count=count+1\n",
    "            if count==2:\n",
    "                count2=count2+1\n",
    "    if P==count2:\n",
    "        print(\"YES\")\n",
    "    else:\n",
    "        print(\"NO\")\n",
    "                "
   ]
  },
  {
   "cell_type": "markdown",
   "metadata": {},
   "source": [
    "## "
   ]
  }
 ],
 "metadata": {
  "kernelspec": {
   "display_name": "Python 3",
   "language": "python",
   "name": "python3"
  },
  "language_info": {
   "codemirror_mode": {
    "name": "ipython",
    "version": 3
   },
   "file_extension": ".py",
   "mimetype": "text/x-python",
   "name": "python",
   "nbconvert_exporter": "python",
   "pygments_lexer": "ipython3",
   "version": "3.7.3"
  }
 },
 "nbformat": 4,
 "nbformat_minor": 2
}
